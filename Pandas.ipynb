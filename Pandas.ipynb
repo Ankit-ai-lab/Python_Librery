{
 "cells": [
  {
   "cell_type": "markdown",
   "id": "273e359b",
   "metadata": {},
   "source": [
    "# Introduction to Pandas:\n",
    "\n",
    "Purpose: Pandas is a Python library designed for efficient data manipulation and analysis.\n",
    "\n",
    "Data Structures:\n",
    "\n",
    "DataFrame: Two-dimensional table for structured data manipulation.\n",
    "Series: One-dimensional labeled array for individual columns or rows.\n",
    "Data Cleaning:\n",
    "\n",
    "Pandas simplifies tasks like handling missing data and reshaping.\n",
    "Selection and Slicing:\n",
    "\n",
    "Offers powerful tools for selecting, indexing, and slicing data.\n",
    "Grouping and Aggregation:\n",
    "\n",
    "Supports grouping data based on criteria and performing aggregate functions.\n",
    "IO Tools:\n",
    "\n",
    "Reads and writes data in various formats like CSV, Excel, and SQL databases."
   ]
  },
  {
   "cell_type": "markdown",
   "id": "f0e5a222",
   "metadata": {},
   "source": [
    "# <span style=\"color:blue\">History of Pandas:</span>\n",
    "\n",
    "Initiation (2008):\n",
    "\n",
    "Created by Wes McKinney to handle financial data.\n",
    "Inspiration from R:\n",
    "\n",
    "Borrowed concepts from R's data frames.\n",
    "Community Adoption:\n",
    "\n",
    "Quickly gained popularity within the data science community.\n",
    "Open Source:\n",
    "\n",
    "Thrives on contributions from a global developer community.\n",
    "Integration:\n",
    "\n",
    "Seamlessly integrates with NumPy, Matplotlib, and scikit-learn."
   ]
  },
  {
   "cell_type": "markdown",
   "id": "a4626c2f",
   "metadata": {},
   "source": [
    "# <span style=\"color:green; font-weight:bold;\">Present Day:</span>\n",
    "\n",
    "\n",
    "Data Science Cornerstone:\n",
    "\n",
    "Integral part of the Python data science stack.\n",
    "Ease of Use:\n",
    "\n",
    "Known for simplicity and versatility in data manipulation.\n",
    "Community-Driven Evolution:\n",
    "\n",
    "Regular updates and contributions from the open-source community.\n",
    "Ecosystem Integration:\n",
    "\n",
    "Forms a comprehensive ecosystem with other Python libraries."
   ]
  },
  {
   "cell_type": "raw",
   "id": "1af5cd0d",
   "metadata": {},
   "source": [
    "# <span style=\"color:blue\">History of Pandas:</span>\n",
    "# <span style=\"color:green; font-weight:bold;\">Present Day:</span>"
   ]
  },
  {
   "cell_type": "code",
   "execution_count": null,
   "id": "2e1c5374",
   "metadata": {},
   "outputs": [],
   "source": []
  },
  {
   "cell_type": "code",
   "execution_count": 1,
   "id": "7216a0fe",
   "metadata": {
    "scrolled": true
   },
   "outputs": [
    {
     "name": "stderr",
     "output_type": "stream",
     "text": [
      "C:\\Users\\LENOVO\\anaconda3\\lib\\site-packages\\numpy\\_distributor_init.py:30: UserWarning: loaded more than 1 DLL from .libs:\n",
      "C:\\Users\\LENOVO\\anaconda3\\lib\\site-packages\\numpy\\.libs\\libopenblas.WCDJNK7YVMPZQ2ME2ZZHJJRJ3JIKNDB7.gfortran-win_amd64.dll\n",
      "C:\\Users\\LENOVO\\anaconda3\\lib\\site-packages\\numpy\\.libs\\libopenblas64__v0.3.21-gcc_10_3_0.dll\n",
      "  warnings.warn(\"loaded more than 1 DLL from .libs:\"\n"
     ]
    }
   ],
   "source": [
    "import pandas as pd"
   ]
  },
  {
   "cell_type": "code",
   "execution_count": 2,
   "id": "47f1f608",
   "metadata": {},
   "outputs": [],
   "source": [
    "df = pd.read_csv(r\"D:\\My Download\\Sample.csv.csv\")"
   ]
  },
  {
   "cell_type": "code",
   "execution_count": 3,
   "id": "330e6491",
   "metadata": {
    "scrolled": true
   },
   "outputs": [
    {
     "data": {
      "text/html": [
       "<div>\n",
       "<style scoped>\n",
       "    .dataframe tbody tr th:only-of-type {\n",
       "        vertical-align: middle;\n",
       "    }\n",
       "\n",
       "    .dataframe tbody tr th {\n",
       "        vertical-align: top;\n",
       "    }\n",
       "\n",
       "    .dataframe thead th {\n",
       "        text-align: right;\n",
       "    }\n",
       "</style>\n",
       "<table border=\"1\" class=\"dataframe\">\n",
       "  <thead>\n",
       "    <tr style=\"text-align: right;\">\n",
       "      <th></th>\n",
       "      <th>ID</th>\n",
       "      <th>Name</th>\n",
       "      <th>Age</th>\n",
       "      <th>Gender</th>\n",
       "      <th>City</th>\n",
       "      <th>Salary</th>\n",
       "    </tr>\n",
       "  </thead>\n",
       "  <tbody>\n",
       "    <tr>\n",
       "      <th>0</th>\n",
       "      <td>1</td>\n",
       "      <td>John</td>\n",
       "      <td>25</td>\n",
       "      <td>Male</td>\n",
       "      <td>New York</td>\n",
       "      <td>50000</td>\n",
       "    </tr>\n",
       "    <tr>\n",
       "      <th>1</th>\n",
       "      <td>2</td>\n",
       "      <td>Mary</td>\n",
       "      <td>30</td>\n",
       "      <td>Female</td>\n",
       "      <td>Chicago</td>\n",
       "      <td>60000</td>\n",
       "    </tr>\n",
       "    <tr>\n",
       "      <th>2</th>\n",
       "      <td>3</td>\n",
       "      <td>David</td>\n",
       "      <td>22</td>\n",
       "      <td>Male</td>\n",
       "      <td>Los Angeles</td>\n",
       "      <td>55000</td>\n",
       "    </tr>\n",
       "  </tbody>\n",
       "</table>\n",
       "</div>"
      ],
      "text/plain": [
       "   ID   Name  Age  Gender         City  Salary\n",
       "0   1   John   25    Male     New York   50000\n",
       "1   2   Mary   30  Female      Chicago   60000\n",
       "2   3  David   22    Male  Los Angeles   55000"
      ]
     },
     "execution_count": 3,
     "metadata": {},
     "output_type": "execute_result"
    }
   ],
   "source": [
    "df2 = pd.read_csv(\"D:\\My Download\\Sample.csv.csv\")\n",
    "\n",
    "df2.head(3)"
   ]
  },
  {
   "cell_type": "code",
   "execution_count": 4,
   "id": "14a5587c",
   "metadata": {},
   "outputs": [
    {
     "data": {
      "text/html": [
       "<div>\n",
       "<style scoped>\n",
       "    .dataframe tbody tr th:only-of-type {\n",
       "        vertical-align: middle;\n",
       "    }\n",
       "\n",
       "    .dataframe tbody tr th {\n",
       "        vertical-align: top;\n",
       "    }\n",
       "\n",
       "    .dataframe thead th {\n",
       "        text-align: right;\n",
       "    }\n",
       "</style>\n",
       "<table border=\"1\" class=\"dataframe\">\n",
       "  <thead>\n",
       "    <tr style=\"text-align: right;\">\n",
       "      <th></th>\n",
       "      <th>ID</th>\n",
       "      <th>Name</th>\n",
       "      <th>Age</th>\n",
       "      <th>Gender</th>\n",
       "      <th>City</th>\n",
       "      <th>Salary</th>\n",
       "    </tr>\n",
       "  </thead>\n",
       "  <tbody>\n",
       "    <tr>\n",
       "      <th>0</th>\n",
       "      <td>1</td>\n",
       "      <td>John</td>\n",
       "      <td>25</td>\n",
       "      <td>Male</td>\n",
       "      <td>New York</td>\n",
       "      <td>50000</td>\n",
       "    </tr>\n",
       "    <tr>\n",
       "      <th>1</th>\n",
       "      <td>2</td>\n",
       "      <td>Mary</td>\n",
       "      <td>30</td>\n",
       "      <td>Female</td>\n",
       "      <td>Chicago</td>\n",
       "      <td>60000</td>\n",
       "    </tr>\n",
       "    <tr>\n",
       "      <th>2</th>\n",
       "      <td>3</td>\n",
       "      <td>David</td>\n",
       "      <td>22</td>\n",
       "      <td>Male</td>\n",
       "      <td>Los Angeles</td>\n",
       "      <td>55000</td>\n",
       "    </tr>\n",
       "    <tr>\n",
       "      <th>3</th>\n",
       "      <td>4</td>\n",
       "      <td>Emma</td>\n",
       "      <td>28</td>\n",
       "      <td>Female</td>\n",
       "      <td>San Francisco</td>\n",
       "      <td>62000</td>\n",
       "    </tr>\n",
       "    <tr>\n",
       "      <th>4</th>\n",
       "      <td>5</td>\n",
       "      <td>Michael</td>\n",
       "      <td>35</td>\n",
       "      <td>Male</td>\n",
       "      <td>Seattle</td>\n",
       "      <td>70000</td>\n",
       "    </tr>\n",
       "    <tr>\n",
       "      <th>5</th>\n",
       "      <td>6</td>\n",
       "      <td>Jessica</td>\n",
       "      <td>32</td>\n",
       "      <td>Female</td>\n",
       "      <td>Austin</td>\n",
       "      <td>58000</td>\n",
       "    </tr>\n",
       "    <tr>\n",
       "      <th>6</th>\n",
       "      <td>7</td>\n",
       "      <td>Brian</td>\n",
       "      <td>40</td>\n",
       "      <td>Male</td>\n",
       "      <td>Boston</td>\n",
       "      <td>75000</td>\n",
       "    </tr>\n",
       "    <tr>\n",
       "      <th>7</th>\n",
       "      <td>8</td>\n",
       "      <td>Olivia</td>\n",
       "      <td>26</td>\n",
       "      <td>Female</td>\n",
       "      <td>Denver</td>\n",
       "      <td>56000</td>\n",
       "    </tr>\n",
       "    <tr>\n",
       "      <th>8</th>\n",
       "      <td>9</td>\n",
       "      <td>Ethan</td>\n",
       "      <td>29</td>\n",
       "      <td>Male</td>\n",
       "      <td>Portland</td>\n",
       "      <td>61000</td>\n",
       "    </tr>\n",
       "    <tr>\n",
       "      <th>9</th>\n",
       "      <td>10</td>\n",
       "      <td>Sophia</td>\n",
       "      <td>27</td>\n",
       "      <td>Female</td>\n",
       "      <td>Atlanta</td>\n",
       "      <td>59000</td>\n",
       "    </tr>\n",
       "    <tr>\n",
       "      <th>10</th>\n",
       "      <td>11</td>\n",
       "      <td>Benjamin</td>\n",
       "      <td>33</td>\n",
       "      <td>Male</td>\n",
       "      <td>San Diego</td>\n",
       "      <td>68000</td>\n",
       "    </tr>\n",
       "    <tr>\n",
       "      <th>11</th>\n",
       "      <td>12</td>\n",
       "      <td>Ava</td>\n",
       "      <td>31</td>\n",
       "      <td>Female</td>\n",
       "      <td>Dallas</td>\n",
       "      <td>64000</td>\n",
       "    </tr>\n",
       "    <tr>\n",
       "      <th>12</th>\n",
       "      <td>13</td>\n",
       "      <td>Lucas</td>\n",
       "      <td>24</td>\n",
       "      <td>Male</td>\n",
       "      <td>Houston</td>\n",
       "      <td>52000</td>\n",
       "    </tr>\n",
       "    <tr>\n",
       "      <th>13</th>\n",
       "      <td>14</td>\n",
       "      <td>Mia</td>\n",
       "      <td>35</td>\n",
       "      <td>Female</td>\n",
       "      <td>Miami</td>\n",
       "      <td>72000</td>\n",
       "    </tr>\n",
       "    <tr>\n",
       "      <th>14</th>\n",
       "      <td>15</td>\n",
       "      <td>Jackson</td>\n",
       "      <td>28</td>\n",
       "      <td>Male</td>\n",
       "      <td>Minneapolis</td>\n",
       "      <td>59000</td>\n",
       "    </tr>\n",
       "    <tr>\n",
       "      <th>15</th>\n",
       "      <td>16</td>\n",
       "      <td>Aria</td>\n",
       "      <td>36</td>\n",
       "      <td>Female</td>\n",
       "      <td>Philadelphia</td>\n",
       "      <td>78000</td>\n",
       "    </tr>\n",
       "    <tr>\n",
       "      <th>16</th>\n",
       "      <td>17</td>\n",
       "      <td>Logan</td>\n",
       "      <td>30</td>\n",
       "      <td>Male</td>\n",
       "      <td>Phoenix</td>\n",
       "      <td>67000</td>\n",
       "    </tr>\n",
       "    <tr>\n",
       "      <th>17</th>\n",
       "      <td>18</td>\n",
       "      <td>Grace</td>\n",
       "      <td>29</td>\n",
       "      <td>Female</td>\n",
       "      <td>Nashville</td>\n",
       "      <td>61000</td>\n",
       "    </tr>\n",
       "    <tr>\n",
       "      <th>18</th>\n",
       "      <td>19</td>\n",
       "      <td>Oliver</td>\n",
       "      <td>34</td>\n",
       "      <td>Male</td>\n",
       "      <td>Detroit</td>\n",
       "      <td>70000</td>\n",
       "    </tr>\n",
       "    <tr>\n",
       "      <th>19</th>\n",
       "      <td>20</td>\n",
       "      <td>Lily</td>\n",
       "      <td>27</td>\n",
       "      <td>Female</td>\n",
       "      <td>Raleigh</td>\n",
       "      <td>60000</td>\n",
       "    </tr>\n",
       "  </tbody>\n",
       "</table>\n",
       "</div>"
      ],
      "text/plain": [
       "    ID      Name  Age  Gender           City  Salary\n",
       "0    1      John   25    Male       New York   50000\n",
       "1    2      Mary   30  Female        Chicago   60000\n",
       "2    3     David   22    Male    Los Angeles   55000\n",
       "3    4      Emma   28  Female  San Francisco   62000\n",
       "4    5   Michael   35    Male        Seattle   70000\n",
       "5    6   Jessica   32  Female         Austin   58000\n",
       "6    7     Brian   40    Male         Boston   75000\n",
       "7    8    Olivia   26  Female         Denver   56000\n",
       "8    9     Ethan   29    Male       Portland   61000\n",
       "9   10    Sophia   27  Female        Atlanta   59000\n",
       "10  11  Benjamin   33    Male      San Diego   68000\n",
       "11  12       Ava   31  Female         Dallas   64000\n",
       "12  13     Lucas   24    Male        Houston   52000\n",
       "13  14       Mia   35  Female          Miami   72000\n",
       "14  15   Jackson   28    Male    Minneapolis   59000\n",
       "15  16      Aria   36  Female   Philadelphia   78000\n",
       "16  17     Logan   30    Male        Phoenix   67000\n",
       "17  18     Grace   29  Female      Nashville   61000\n",
       "18  19    Oliver   34    Male        Detroit   70000\n",
       "19  20      Lily   27  Female        Raleigh   60000"
      ]
     },
     "execution_count": 4,
     "metadata": {},
     "output_type": "execute_result"
    }
   ],
   "source": [
    "df2.tail(20)"
   ]
  },
  {
   "cell_type": "code",
   "execution_count": 5,
   "id": "78e4fb96",
   "metadata": {},
   "outputs": [
    {
     "data": {
      "text/html": [
       "<div>\n",
       "<style scoped>\n",
       "    .dataframe tbody tr th:only-of-type {\n",
       "        vertical-align: middle;\n",
       "    }\n",
       "\n",
       "    .dataframe tbody tr th {\n",
       "        vertical-align: top;\n",
       "    }\n",
       "\n",
       "    .dataframe thead th {\n",
       "        text-align: right;\n",
       "    }\n",
       "</style>\n",
       "<table border=\"1\" class=\"dataframe\">\n",
       "  <thead>\n",
       "    <tr style=\"text-align: right;\">\n",
       "      <th></th>\n",
       "      <th>ID</th>\n",
       "      <th>Name</th>\n",
       "      <th>Age</th>\n",
       "      <th>Gender</th>\n",
       "      <th>City</th>\n",
       "      <th>Salary</th>\n",
       "    </tr>\n",
       "  </thead>\n",
       "  <tbody>\n",
       "    <tr>\n",
       "      <th>0</th>\n",
       "      <td>1</td>\n",
       "      <td>John</td>\n",
       "      <td>25</td>\n",
       "      <td>Male</td>\n",
       "      <td>New York</td>\n",
       "      <td>50000</td>\n",
       "    </tr>\n",
       "    <tr>\n",
       "      <th>1</th>\n",
       "      <td>2</td>\n",
       "      <td>Mary</td>\n",
       "      <td>30</td>\n",
       "      <td>Female</td>\n",
       "      <td>Chicago</td>\n",
       "      <td>60000</td>\n",
       "    </tr>\n",
       "    <tr>\n",
       "      <th>2</th>\n",
       "      <td>3</td>\n",
       "      <td>David</td>\n",
       "      <td>22</td>\n",
       "      <td>Male</td>\n",
       "      <td>Los Angeles</td>\n",
       "      <td>55000</td>\n",
       "    </tr>\n",
       "    <tr>\n",
       "      <th>3</th>\n",
       "      <td>4</td>\n",
       "      <td>Emma</td>\n",
       "      <td>28</td>\n",
       "      <td>Female</td>\n",
       "      <td>San Francisco</td>\n",
       "      <td>62000</td>\n",
       "    </tr>\n",
       "    <tr>\n",
       "      <th>4</th>\n",
       "      <td>5</td>\n",
       "      <td>Michael</td>\n",
       "      <td>35</td>\n",
       "      <td>Male</td>\n",
       "      <td>Seattle</td>\n",
       "      <td>70000</td>\n",
       "    </tr>\n",
       "  </tbody>\n",
       "</table>\n",
       "</div>"
      ],
      "text/plain": [
       "   ID     Name  Age  Gender           City  Salary\n",
       "0   1     John   25    Male       New York   50000\n",
       "1   2     Mary   30  Female        Chicago   60000\n",
       "2   3    David   22    Male    Los Angeles   55000\n",
       "3   4     Emma   28  Female  San Francisco   62000\n",
       "4   5  Michael   35    Male        Seattle   70000"
      ]
     },
     "execution_count": 5,
     "metadata": {},
     "output_type": "execute_result"
    }
   ],
   "source": [
    "df.head()"
   ]
  },
  {
   "cell_type": "code",
   "execution_count": 6,
   "id": "c49c1ef2",
   "metadata": {},
   "outputs": [
    {
     "data": {
      "text/html": [
       "<div>\n",
       "<style scoped>\n",
       "    .dataframe tbody tr th:only-of-type {\n",
       "        vertical-align: middle;\n",
       "    }\n",
       "\n",
       "    .dataframe tbody tr th {\n",
       "        vertical-align: top;\n",
       "    }\n",
       "\n",
       "    .dataframe thead th {\n",
       "        text-align: right;\n",
       "    }\n",
       "</style>\n",
       "<table border=\"1\" class=\"dataframe\">\n",
       "  <thead>\n",
       "    <tr style=\"text-align: right;\">\n",
       "      <th></th>\n",
       "      <th>ID</th>\n",
       "      <th>Name</th>\n",
       "      <th>Age</th>\n",
       "      <th>Gender</th>\n",
       "      <th>City</th>\n",
       "      <th>Salary</th>\n",
       "    </tr>\n",
       "  </thead>\n",
       "  <tbody>\n",
       "    <tr>\n",
       "      <th>15</th>\n",
       "      <td>16</td>\n",
       "      <td>Aria</td>\n",
       "      <td>36</td>\n",
       "      <td>Female</td>\n",
       "      <td>Philadelphia</td>\n",
       "      <td>78000</td>\n",
       "    </tr>\n",
       "    <tr>\n",
       "      <th>16</th>\n",
       "      <td>17</td>\n",
       "      <td>Logan</td>\n",
       "      <td>30</td>\n",
       "      <td>Male</td>\n",
       "      <td>Phoenix</td>\n",
       "      <td>67000</td>\n",
       "    </tr>\n",
       "    <tr>\n",
       "      <th>17</th>\n",
       "      <td>18</td>\n",
       "      <td>Grace</td>\n",
       "      <td>29</td>\n",
       "      <td>Female</td>\n",
       "      <td>Nashville</td>\n",
       "      <td>61000</td>\n",
       "    </tr>\n",
       "    <tr>\n",
       "      <th>18</th>\n",
       "      <td>19</td>\n",
       "      <td>Oliver</td>\n",
       "      <td>34</td>\n",
       "      <td>Male</td>\n",
       "      <td>Detroit</td>\n",
       "      <td>70000</td>\n",
       "    </tr>\n",
       "    <tr>\n",
       "      <th>19</th>\n",
       "      <td>20</td>\n",
       "      <td>Lily</td>\n",
       "      <td>27</td>\n",
       "      <td>Female</td>\n",
       "      <td>Raleigh</td>\n",
       "      <td>60000</td>\n",
       "    </tr>\n",
       "  </tbody>\n",
       "</table>\n",
       "</div>"
      ],
      "text/plain": [
       "    ID    Name  Age  Gender          City  Salary\n",
       "15  16    Aria   36  Female  Philadelphia   78000\n",
       "16  17   Logan   30    Male       Phoenix   67000\n",
       "17  18   Grace   29  Female     Nashville   61000\n",
       "18  19  Oliver   34    Male       Detroit   70000\n",
       "19  20    Lily   27  Female       Raleigh   60000"
      ]
     },
     "execution_count": 6,
     "metadata": {},
     "output_type": "execute_result"
    }
   ],
   "source": [
    "df.tail()"
   ]
  },
  {
   "cell_type": "code",
   "execution_count": 7,
   "id": "89a3060e",
   "metadata": {},
   "outputs": [
    {
     "data": {
      "text/html": [
       "<div>\n",
       "<style scoped>\n",
       "    .dataframe tbody tr th:only-of-type {\n",
       "        vertical-align: middle;\n",
       "    }\n",
       "\n",
       "    .dataframe tbody tr th {\n",
       "        vertical-align: top;\n",
       "    }\n",
       "\n",
       "    .dataframe thead th {\n",
       "        text-align: right;\n",
       "    }\n",
       "</style>\n",
       "<table border=\"1\" class=\"dataframe\">\n",
       "  <thead>\n",
       "    <tr style=\"text-align: right;\">\n",
       "      <th></th>\n",
       "      <th>ID</th>\n",
       "      <th>Age</th>\n",
       "      <th>Salary</th>\n",
       "    </tr>\n",
       "  </thead>\n",
       "  <tbody>\n",
       "    <tr>\n",
       "      <th>count</th>\n",
       "      <td>20.00000</td>\n",
       "      <td>20.000000</td>\n",
       "      <td>20.000000</td>\n",
       "    </tr>\n",
       "    <tr>\n",
       "      <th>mean</th>\n",
       "      <td>10.50000</td>\n",
       "      <td>30.050000</td>\n",
       "      <td>62850.000000</td>\n",
       "    </tr>\n",
       "    <tr>\n",
       "      <th>std</th>\n",
       "      <td>5.91608</td>\n",
       "      <td>4.501169</td>\n",
       "      <td>7527.318667</td>\n",
       "    </tr>\n",
       "    <tr>\n",
       "      <th>min</th>\n",
       "      <td>1.00000</td>\n",
       "      <td>22.000000</td>\n",
       "      <td>50000.000000</td>\n",
       "    </tr>\n",
       "    <tr>\n",
       "      <th>25%</th>\n",
       "      <td>5.75000</td>\n",
       "      <td>27.000000</td>\n",
       "      <td>58750.000000</td>\n",
       "    </tr>\n",
       "    <tr>\n",
       "      <th>50%</th>\n",
       "      <td>10.50000</td>\n",
       "      <td>29.500000</td>\n",
       "      <td>61000.000000</td>\n",
       "    </tr>\n",
       "    <tr>\n",
       "      <th>75%</th>\n",
       "      <td>15.25000</td>\n",
       "      <td>33.250000</td>\n",
       "      <td>68500.000000</td>\n",
       "    </tr>\n",
       "    <tr>\n",
       "      <th>max</th>\n",
       "      <td>20.00000</td>\n",
       "      <td>40.000000</td>\n",
       "      <td>78000.000000</td>\n",
       "    </tr>\n",
       "  </tbody>\n",
       "</table>\n",
       "</div>"
      ],
      "text/plain": [
       "             ID        Age        Salary\n",
       "count  20.00000  20.000000     20.000000\n",
       "mean   10.50000  30.050000  62850.000000\n",
       "std     5.91608   4.501169   7527.318667\n",
       "min     1.00000  22.000000  50000.000000\n",
       "25%     5.75000  27.000000  58750.000000\n",
       "50%    10.50000  29.500000  61000.000000\n",
       "75%    15.25000  33.250000  68500.000000\n",
       "max    20.00000  40.000000  78000.000000"
      ]
     },
     "execution_count": 7,
     "metadata": {},
     "output_type": "execute_result"
    }
   ],
   "source": [
    "df.describe()"
   ]
  },
  {
   "cell_type": "code",
   "execution_count": 8,
   "id": "c28649fe",
   "metadata": {},
   "outputs": [
    {
     "name": "stdout",
     "output_type": "stream",
     "text": [
      "      Name  Age  Test_Score\n",
      "0    Alice   22          85\n",
      "1      Bob   24          90\n",
      "2  Charlie   23          78\n",
      "3    David   21          92\n",
      "4      Eva   25          88\n"
     ]
    }
   ],
   "source": [
    "\n",
    "\n",
    "# Creating a DataFrame from a dictionary\n",
    "data = {\n",
    "    'Name': ['Alice', 'Bob', 'Charlie', 'David', 'Eva'],\n",
    "    'Age': [22, 24, 23, 21, 25],\n",
    "    'Test_Score': [85, 90, 78, 92, 88]\n",
    "}\n",
    "\n",
    "df5 = pd.DataFrame(data)\n",
    "\n",
    "\n",
    "print(df5)\n"
   ]
  },
  {
   "cell_type": "code",
   "execution_count": 9,
   "id": "a560e56f",
   "metadata": {},
   "outputs": [
    {
     "name": "stdout",
     "output_type": "stream",
     "text": [
      "0    85\n",
      "1    90\n",
      "2    78\n",
      "3    92\n",
      "4    88\n",
      "dtype: int64\n"
     ]
    }
   ],
   "source": [
    "\n",
    "\n",
    "\n",
    "test_scores = [85, 90, 78, 92, 88]\n",
    "\n",
    "# Using default integer index\n",
    "scores_series = pd.Series(test_scores)\n",
    "\n",
    "# Display the Series\n",
    "print(scores_series)\n"
   ]
  },
  {
   "cell_type": "code",
   "execution_count": 10,
   "id": "e930aa7e",
   "metadata": {},
   "outputs": [],
   "source": [
    "## save in excel format = df = pd.DataFrame(data)\n",
    "# Save DataFrame to Excel\n",
    "df5.to_csv('student_.csv', index=False)\n",
    "# Save DataFrame to Excel\n",
    "#df5.to_excel('student_.xlsx', index=False)"
   ]
  },
  {
   "cell_type": "code",
   "execution_count": 11,
   "id": "a149db17",
   "metadata": {},
   "outputs": [],
   "source": [
    "df = pd.DataFrame(data)\n",
    "\n",
    "# Save DataFrame to Excel\n",
    "df.to_excel('student_data.xlsx', index=False)"
   ]
  },
  {
   "cell_type": "markdown",
   "id": "e2b44185",
   "metadata": {},
   "source": [
    "# <span style=\"color:green; font-weight:bold;\">Inspect Data:</span>"
   ]
  },
  {
   "cell_type": "code",
   "execution_count": 12,
   "id": "ddcb934d",
   "metadata": {},
   "outputs": [
    {
     "data": {
      "text/plain": [
       "(20, 6)"
      ]
     },
     "execution_count": 12,
     "metadata": {},
     "output_type": "execute_result"
    }
   ],
   "source": [
    "df2.shape"
   ]
  },
  {
   "cell_type": "code",
   "execution_count": 13,
   "id": "6e4e2bf8",
   "metadata": {},
   "outputs": [
    {
     "name": "stdout",
     "output_type": "stream",
     "text": [
      "<class 'pandas.core.frame.DataFrame'>\n",
      "RangeIndex: 5 entries, 0 to 4\n",
      "Data columns (total 3 columns):\n",
      " #   Column      Non-Null Count  Dtype \n",
      "---  ------      --------------  ----- \n",
      " 0   Name        5 non-null      object\n",
      " 1   Age         5 non-null      int64 \n",
      " 2   Test_Score  5 non-null      int64 \n",
      "dtypes: int64(2), object(1)\n",
      "memory usage: 248.0+ bytes\n"
     ]
    }
   ],
   "source": [
    "df.info()"
   ]
  },
  {
   "cell_type": "code",
   "execution_count": 14,
   "id": "2ea56714",
   "metadata": {},
   "outputs": [
    {
     "name": "stdout",
     "output_type": "stream",
     "text": [
      "  Name  Age  Test_Score\n",
      "1  Bob   24          90\n"
     ]
    }
   ],
   "source": [
    "# Get a random sample of rows from the DataFrame\n",
    "random_sample = df.sample(1)  # Change 'n' to the desired number of rows\n",
    "print(random_sample)"
   ]
  },
  {
   "cell_type": "code",
   "execution_count": 15,
   "id": "db959d57",
   "metadata": {},
   "outputs": [
    {
     "data": {
      "text/html": [
       "<div>\n",
       "<style scoped>\n",
       "    .dataframe tbody tr th:only-of-type {\n",
       "        vertical-align: middle;\n",
       "    }\n",
       "\n",
       "    .dataframe tbody tr th {\n",
       "        vertical-align: top;\n",
       "    }\n",
       "\n",
       "    .dataframe thead th {\n",
       "        text-align: right;\n",
       "    }\n",
       "</style>\n",
       "<table border=\"1\" class=\"dataframe\">\n",
       "  <thead>\n",
       "    <tr style=\"text-align: right;\">\n",
       "      <th></th>\n",
       "      <th>ID</th>\n",
       "      <th>Name</th>\n",
       "      <th>Age</th>\n",
       "      <th>Gender</th>\n",
       "      <th>City</th>\n",
       "      <th>Salary</th>\n",
       "    </tr>\n",
       "  </thead>\n",
       "  <tbody>\n",
       "    <tr>\n",
       "      <th>6</th>\n",
       "      <td>7</td>\n",
       "      <td>Brian</td>\n",
       "      <td>40</td>\n",
       "      <td>Male</td>\n",
       "      <td>Boston</td>\n",
       "      <td>75000</td>\n",
       "    </tr>\n",
       "  </tbody>\n",
       "</table>\n",
       "</div>"
      ],
      "text/plain": [
       "   ID   Name  Age Gender    City  Salary\n",
       "6   7  Brian   40   Male  Boston   75000"
      ]
     },
     "execution_count": 15,
     "metadata": {},
     "output_type": "execute_result"
    }
   ],
   "source": [
    "df2.nlargest(1, 'Age')  "
   ]
  },
  {
   "cell_type": "code",
   "execution_count": 16,
   "id": "8cba2736",
   "metadata": {},
   "outputs": [
    {
     "data": {
      "text/html": [
       "<div>\n",
       "<style scoped>\n",
       "    .dataframe tbody tr th:only-of-type {\n",
       "        vertical-align: middle;\n",
       "    }\n",
       "\n",
       "    .dataframe tbody tr th {\n",
       "        vertical-align: top;\n",
       "    }\n",
       "\n",
       "    .dataframe thead th {\n",
       "        text-align: right;\n",
       "    }\n",
       "</style>\n",
       "<table border=\"1\" class=\"dataframe\">\n",
       "  <thead>\n",
       "    <tr style=\"text-align: right;\">\n",
       "      <th></th>\n",
       "      <th>ID</th>\n",
       "      <th>Name</th>\n",
       "      <th>Age</th>\n",
       "      <th>Gender</th>\n",
       "      <th>City</th>\n",
       "      <th>Salary</th>\n",
       "    </tr>\n",
       "  </thead>\n",
       "  <tbody>\n",
       "    <tr>\n",
       "      <th>0</th>\n",
       "      <td>1</td>\n",
       "      <td>John</td>\n",
       "      <td>25</td>\n",
       "      <td>Male</td>\n",
       "      <td>New York</td>\n",
       "      <td>50000</td>\n",
       "    </tr>\n",
       "    <tr>\n",
       "      <th>12</th>\n",
       "      <td>13</td>\n",
       "      <td>Lucas</td>\n",
       "      <td>24</td>\n",
       "      <td>Male</td>\n",
       "      <td>Houston</td>\n",
       "      <td>52000</td>\n",
       "    </tr>\n",
       "  </tbody>\n",
       "</table>\n",
       "</div>"
      ],
      "text/plain": [
       "    ID   Name  Age Gender      City  Salary\n",
       "0    1   John   25   Male  New York   50000\n",
       "12  13  Lucas   24   Male   Houston   52000"
      ]
     },
     "execution_count": 16,
     "metadata": {},
     "output_type": "execute_result"
    }
   ],
   "source": [
    "df2.nsmallest(2, 'Salary')"
   ]
  },
  {
   "cell_type": "code",
   "execution_count": 17,
   "id": "995767b5",
   "metadata": {},
   "outputs": [
    {
     "name": "stdout",
     "output_type": "stream",
     "text": [
      "<class 'pandas.core.frame.DataFrame'>\n",
      "RangeIndex: 5 entries, 0 to 4\n",
      "Data columns (total 3 columns):\n",
      " #   Column      Non-Null Count  Dtype \n",
      "---  ------      --------------  ----- \n",
      " 0   Name        5 non-null      object\n",
      " 1   Age         5 non-null      int64 \n",
      " 2   Test_Score  5 non-null      int64 \n",
      "dtypes: int64(2), object(1)\n",
      "memory usage: 248.0+ bytes\n"
     ]
    }
   ],
   "source": [
    "df.info()"
   ]
  },
  {
   "cell_type": "raw",
   "id": "8cb96db7",
   "metadata": {},
   "source": [
    "Adding a New Column:"
   ]
  },
  {
   "cell_type": "code",
   "execution_count": 18,
   "id": "06aec1fc",
   "metadata": {},
   "outputs": [
    {
     "data": {
      "text/html": [
       "<div>\n",
       "<style scoped>\n",
       "    .dataframe tbody tr th:only-of-type {\n",
       "        vertical-align: middle;\n",
       "    }\n",
       "\n",
       "    .dataframe tbody tr th {\n",
       "        vertical-align: top;\n",
       "    }\n",
       "\n",
       "    .dataframe thead th {\n",
       "        text-align: right;\n",
       "    }\n",
       "</style>\n",
       "<table border=\"1\" class=\"dataframe\">\n",
       "  <thead>\n",
       "    <tr style=\"text-align: right;\">\n",
       "      <th></th>\n",
       "      <th>Name</th>\n",
       "      <th>Age</th>\n",
       "      <th>Test_Score</th>\n",
       "    </tr>\n",
       "  </thead>\n",
       "  <tbody>\n",
       "    <tr>\n",
       "      <th>0</th>\n",
       "      <td>Alice</td>\n",
       "      <td>22</td>\n",
       "      <td>85</td>\n",
       "    </tr>\n",
       "    <tr>\n",
       "      <th>1</th>\n",
       "      <td>Bob</td>\n",
       "      <td>24</td>\n",
       "      <td>90</td>\n",
       "    </tr>\n",
       "    <tr>\n",
       "      <th>2</th>\n",
       "      <td>Charlie</td>\n",
       "      <td>23</td>\n",
       "      <td>78</td>\n",
       "    </tr>\n",
       "    <tr>\n",
       "      <th>3</th>\n",
       "      <td>David</td>\n",
       "      <td>21</td>\n",
       "      <td>92</td>\n",
       "    </tr>\n",
       "    <tr>\n",
       "      <th>4</th>\n",
       "      <td>Eva</td>\n",
       "      <td>25</td>\n",
       "      <td>88</td>\n",
       "    </tr>\n",
       "  </tbody>\n",
       "</table>\n",
       "</div>"
      ],
      "text/plain": [
       "      Name  Age  Test_Score\n",
       "0    Alice   22          85\n",
       "1      Bob   24          90\n",
       "2  Charlie   23          78\n",
       "3    David   21          92\n",
       "4      Eva   25          88"
      ]
     },
     "execution_count": 18,
     "metadata": {},
     "output_type": "execute_result"
    }
   ],
   "source": [
    "df"
   ]
  },
  {
   "cell_type": "code",
   "execution_count": 19,
   "id": "f4cc91c9",
   "metadata": {},
   "outputs": [
    {
     "name": "stdout",
     "output_type": "stream",
     "text": [
      "      Name  Age  Test_Score  New_Column2\n",
      "0    Alice   22          85           10\n",
      "1      Bob   24          90           15\n",
      "2  Charlie   23          78           12\n",
      "3    David   21          92           18\n",
      "4      Eva   25          88           55\n"
     ]
    }
   ],
   "source": [
    "# New column data\n",
    "new_column_data = [10, 15, 12, 18,55]\n",
    "\n",
    "# Add the new column to the DataFrame\n",
    "df['New_Column2'] = new_column_data\n",
    "\n",
    "# Display the DataFrame with the new column\n",
    "print(df)\n"
   ]
  },
  {
   "cell_type": "code",
   "execution_count": 21,
   "id": "13d123e7",
   "metadata": {},
   "outputs": [
    {
     "name": "stdout",
     "output_type": "stream",
     "text": [
      "      Name  Age  Test_Score  New_Column2 dominoz\n",
      "0    Alice   22          85           10    anuu\n",
      "1      Bob   24          90           15    Monu\n",
      "2  Charlie   23          78           12    Sonu\n",
      "3    David   21          92           18   Sunil\n",
      "4      Eva   25          88           55   Sunny\n"
     ]
    }
   ],
   "source": [
    "column = [\"anuu\",'Monu', 'Sonu', 'Sunil','Sunny']\n",
    "df['dominoz'] = column \n",
    "print(df)"
   ]
  },
  {
   "cell_type": "code",
   "execution_count": 22,
   "id": "cd08fc7d",
   "metadata": {},
   "outputs": [
    {
     "name": "stdout",
     "output_type": "stream",
     "text": [
      "      Name  Age  Test_Score  New_Column2 dominoz  New_Column\n",
      "0    Alice   22          85         10.0    anuu         NaN\n",
      "1      Bob   24          90         15.0    Monu         NaN\n",
      "2  Charlie   23          78         12.0    Sonu         NaN\n",
      "3    David   21          92         18.0   Sunil         NaN\n",
      "4      Eva   25          88         55.0   Sunny         NaN\n",
      "5    Frank   26          95          NaN     NaN        50.0\n"
     ]
    },
    {
     "name": "stderr",
     "output_type": "stream",
     "text": [
      "C:\\Users\\LENOVO\\AppData\\Local\\Temp\\ipykernel_5248\\1630353872.py:5: FutureWarning: The frame.append method is deprecated and will be removed from pandas in a future version. Use pandas.concat instead.\n",
      "  df = df.append(new_row_data, ignore_index=True)\n"
     ]
    }
   ],
   "source": [
    "# New row data\n",
    "new_row_data = {'Name': 'Frank', 'Age': 26, 'Test_Score': 95, 'New_Column':50}\n",
    "\n",
    "# Add the new row to the DataFrame\n",
    "df = df.append(new_row_data, ignore_index=True)\n",
    "\n",
    "# Display the DataFrame with the new row\n",
    "print(df)"
   ]
  },
  {
   "cell_type": "code",
   "execution_count": 23,
   "id": "e34ca9af",
   "metadata": {},
   "outputs": [
    {
     "name": "stdout",
     "output_type": "stream",
     "text": [
      "      Name  Age  Test_Score  New_Column2 dominoz  New_Column\n",
      "0    Alice   22          85         10.0    anuu         NaN\n",
      "1      Bob   24          90         15.0    Monu         NaN\n",
      "2  Charlie   23          78         12.0    Sonu         NaN\n",
      "3    David   21          92         18.0   Sunil         NaN\n",
      "4      Eva   25          88         55.0   Sunny         NaN\n",
      "5    Frank   26          95          NaN     NaN        50.0\n",
      "6   Manshi   88          88          NaN     NaN         NaN\n"
     ]
    },
    {
     "name": "stderr",
     "output_type": "stream",
     "text": [
      "C:\\Users\\LENOVO\\AppData\\Local\\Temp\\ipykernel_5248\\3014677061.py:2: FutureWarning: The frame.append method is deprecated and will be removed from pandas in a future version. Use pandas.concat instead.\n",
      "  df = df.append(new_row_data, ignore_index =True)\n"
     ]
    }
   ],
   "source": [
    "new_row_data = {'Name': 'Manshi','Age':88, 'Test_Score':88}\n",
    "df = df.append(new_row_data, ignore_index =True)\n",
    "print(df)"
   ]
  },
  {
   "cell_type": "code",
   "execution_count": 24,
   "id": "566d3980",
   "metadata": {},
   "outputs": [
    {
     "name": "stdout",
     "output_type": "stream",
     "text": [
      "      Name   Age  Test_Score  New_Column2 dominoz  New_Column dominoz \n",
      "0    Alice  22.0        85.0         10.0    anuu         NaN      NaN\n",
      "1      Bob  24.0        90.0         15.0    Monu         NaN      NaN\n",
      "2  Charlie  23.0        78.0         12.0    Sonu         NaN      NaN\n",
      "3    David  21.0        92.0         18.0   Sunil         NaN      NaN\n",
      "4      Eva  25.0        88.0         55.0   Sunny         NaN      NaN\n",
      "5    Frank  26.0        95.0          NaN     NaN        50.0      NaN\n",
      "6   Manshi  88.0        88.0          NaN     NaN         NaN      NaN\n",
      "7      NaN   NaN         NaN          NaN     NaN         NaN    Drink\n"
     ]
    },
    {
     "name": "stderr",
     "output_type": "stream",
     "text": [
      "C:\\Users\\LENOVO\\AppData\\Local\\Temp\\ipykernel_5248\\3430881389.py:2: FutureWarning: The frame.append method is deprecated and will be removed from pandas in a future version. Use pandas.concat instead.\n",
      "  df = df.append(new_row_data, ignore_index =True)\n"
     ]
    }
   ],
   "source": [
    "new_row_data = {'dominoz ': 'Drink'}\n",
    "df = df.append(new_row_data, ignore_index =True)\n",
    "print(df)"
   ]
  },
  {
   "cell_type": "code",
   "execution_count": 25,
   "id": "6800c448",
   "metadata": {},
   "outputs": [
    {
     "name": "stdout",
     "output_type": "stream",
     "text": [
      "\n",
      "Sorted DataFrame (low to high Test_Score):\n",
      "      Name   Age  Test_Score  New_Column2 dominoz  New_Column dominoz \n",
      "2  Charlie  23.0        78.0         12.0    Sonu         NaN      NaN\n",
      "0    Alice  22.0        85.0         10.0    anuu         NaN      NaN\n",
      "4      Eva  25.0        88.0         55.0   Sunny         NaN      NaN\n",
      "6   Manshi  88.0        88.0          NaN     NaN         NaN      NaN\n",
      "1      Bob  24.0        90.0         15.0    Monu         NaN      NaN\n",
      "3    David  21.0        92.0         18.0   Sunil         NaN      NaN\n",
      "5    Frank  26.0        95.0          NaN     NaN        50.0      NaN\n",
      "7      NaN   NaN         NaN          NaN     NaN         NaN    Drink\n"
     ]
    }
   ],
   "source": [
    "# Sort rows by values of the 'Test_Score' column (low to high)\n",
    "sorted_df_low_to_high = df.sort_values('Test_Score')\n",
    "#print(\"\\nSorted DataFrame (low to high Test_Score):\")\n",
    "print(sorted_df_low_to_high)"
   ]
  },
  {
   "cell_type": "code",
   "execution_count": 26,
   "id": "aa547fc0",
   "metadata": {},
   "outputs": [
    {
     "name": "stdout",
     "output_type": "stream",
     "text": [
      "\n",
      "Sorted DataFrame (high to low Test_Score):\n",
      "      Name   Age  Test_Score  New_Column2 dominoz  New_Column dominoz \n",
      "5    Frank  26.0        95.0          NaN     NaN        50.0      NaN\n",
      "3    David  21.0        92.0         18.0   Sunil         NaN      NaN\n",
      "1      Bob  24.0        90.0         15.0    Monu         NaN      NaN\n",
      "4      Eva  25.0        88.0         55.0   Sunny         NaN      NaN\n",
      "6   Manshi  88.0        88.0          NaN     NaN         NaN      NaN\n",
      "0    Alice  22.0        85.0         10.0    anuu         NaN      NaN\n",
      "2  Charlie  23.0        78.0         12.0    Sonu         NaN      NaN\n",
      "7      NaN   NaN         NaN          NaN     NaN         NaN    Drink\n"
     ]
    }
   ],
   "source": [
    "# Sort rows by values of the 'Test_Score' column (high to low)\n",
    "sorted_df_high_to_low = df.sort_values('Test_Score', ascending=False)\n",
    "print(\"\\nSorted DataFrame (high to low Test_Score):\")\n",
    "print(sorted_df_high_to_low)"
   ]
  },
  {
   "cell_type": "code",
   "execution_count": 28,
   "id": "c65cff3a",
   "metadata": {},
   "outputs": [
    {
     "name": "stdout",
     "output_type": "stream",
     "text": [
      "\n",
      "DataFrame with Renamed Column:\n",
      "      Name   Age  Test_Score  New_Column2  Buger  New_Column dominoz \n",
      "0    Alice  22.0        85.0         10.0   anuu         NaN      NaN\n",
      "1      Bob  24.0        90.0         15.0   Monu         NaN      NaN\n",
      "2  Charlie  23.0        78.0         12.0   Sonu         NaN      NaN\n",
      "3    David  21.0        92.0         18.0  Sunil         NaN      NaN\n",
      "4      Eva  25.0        88.0         55.0  Sunny         NaN      NaN\n",
      "5    Frank  26.0        95.0          NaN    NaN        50.0      NaN\n",
      "6   Manshi  88.0        88.0          NaN    NaN         NaN      NaN\n",
      "7      NaN   NaN         NaN          NaN    NaN         NaN    Drink\n"
     ]
    }
   ],
   "source": [
    "# Rename the 'dominoz' column to 'Number_of_Dominos'\n",
    "renamed_df = df.rename(columns={'dominoz': 'Buger'})\n",
    "print(\"\\nDataFrame with Renamed Column:\")\n",
    "print(renamed_df)"
   ]
  },
  {
   "cell_type": "code",
   "execution_count": 29,
   "id": "b17e23d0",
   "metadata": {},
   "outputs": [
    {
     "name": "stdout",
     "output_type": "stream",
     "text": [
      "\n",
      "DataFrame Sorted by Index:\n",
      "      Name   Age  Test_Score  New_Column2 dominoz  New_Column dominoz \n",
      "0    Alice  22.0        85.0         10.0    anuu         NaN      NaN\n",
      "1      Bob  24.0        90.0         15.0    Monu         NaN      NaN\n",
      "2  Charlie  23.0        78.0         12.0    Sonu         NaN      NaN\n",
      "3    David  21.0        92.0         18.0   Sunil         NaN      NaN\n",
      "4      Eva  25.0        88.0         55.0   Sunny         NaN      NaN\n",
      "5    Frank  26.0        95.0          NaN     NaN        50.0      NaN\n",
      "6   Manshi  88.0        88.0          NaN     NaN         NaN      NaN\n",
      "7      NaN   NaN         NaN          NaN     NaN         NaN    Drink\n"
     ]
    }
   ],
   "source": [
    "# Sort the DataFrame based on the index\n",
    "sorted_by_index_df = df.sort_index()\n",
    "print(\"\\nDataFrame Sorted by Index:\")\n",
    "print(sorted_by_index_df)"
   ]
  },
  {
   "cell_type": "code",
   "execution_count": 30,
   "id": "fbcd280b",
   "metadata": {},
   "outputs": [
    {
     "name": "stdout",
     "output_type": "stream",
     "text": [
      "\n",
      "DataFrame with Reset Index:\n",
      "   index     Name   Age  Test_Score  New_Column2 dominoz  New_Column dominoz \n",
      "0      0    Alice  22.0        85.0         10.0    anuu         NaN      NaN\n",
      "1      1      Bob  24.0        90.0         15.0    Monu         NaN      NaN\n",
      "2      2  Charlie  23.0        78.0         12.0    Sonu         NaN      NaN\n",
      "3      3    David  21.0        92.0         18.0   Sunil         NaN      NaN\n",
      "4      4      Eva  25.0        88.0         55.0   Sunny         NaN      NaN\n",
      "5      5    Frank  26.0        95.0          NaN     NaN        50.0      NaN\n",
      "6      6   Manshi  88.0        88.0          NaN     NaN         NaN      NaN\n",
      "7      7      NaN   NaN         NaN          NaN     NaN         NaN    Drink\n"
     ]
    }
   ],
   "source": [
    "# Reset the index of the DataFrame\n",
    "reset_index_df = df.reset_index()\n",
    "print(\"\\nDataFrame with Reset Index:\")\n",
    "print(reset_index_df)"
   ]
  },
  {
   "cell_type": "code",
   "execution_count": 31,
   "id": "5c636625",
   "metadata": {},
   "outputs": [
    {
     "name": "stdout",
     "output_type": "stream",
     "text": [
      "\n",
      "DataFrame after dropping 'dominoz' column:\n",
      "      Name   Age  Test_Score  New_Column2  New_Column dominoz \n",
      "0    Alice  22.0        85.0         10.0         NaN      NaN\n",
      "1      Bob  24.0        90.0         15.0         NaN      NaN\n",
      "2  Charlie  23.0        78.0         12.0         NaN      NaN\n",
      "3    David  21.0        92.0         18.0         NaN      NaN\n",
      "4      Eva  25.0        88.0         55.0         NaN      NaN\n",
      "5    Frank  26.0        95.0          NaN        50.0      NaN\n",
      "6   Manshi  88.0        88.0          NaN         NaN      NaN\n",
      "7      NaN   NaN         NaN          NaN         NaN    Drink\n"
     ]
    }
   ],
   "source": [
    "\n",
    "# Drop the 'dominoz' column\n",
    "df_without_dominoz = df.drop(columns=['dominoz'])\n",
    "#print(\"\\nDataFrame after dropping 'dominoz' column:\")\n",
    "print(df_without_dominoz)"
   ]
  },
  {
   "cell_type": "code",
   "execution_count": null,
   "id": "5f2713bc",
   "metadata": {},
   "outputs": [],
   "source": []
  },
  {
   "cell_type": "code",
   "execution_count": null,
   "id": "1f0e752a",
   "metadata": {},
   "outputs": [],
   "source": []
  },
  {
   "cell_type": "code",
   "execution_count": null,
   "id": "5e446f04",
   "metadata": {},
   "outputs": [],
   "source": []
  },
  {
   "cell_type": "code",
   "execution_count": null,
   "id": "b1bdf068",
   "metadata": {},
   "outputs": [],
   "source": [
    "df.to_csv('Dominoz.csv', index=False)"
   ]
  },
  {
   "cell_type": "markdown",
   "id": "cf224554",
   "metadata": {},
   "source": [
    "# Reshap\n"
   ]
  },
  {
   "cell_type": "code",
   "execution_count": 32,
   "id": "2e117dba",
   "metadata": {},
   "outputs": [
    {
     "name": "stdout",
     "output_type": "stream",
     "text": [
      "Melted DataFrame:\n",
      "      Name  Age    Variable Value\n",
      "0    Alice   22  Test_Score    85\n",
      "1      Bob   24  Test_Score    90\n",
      "2  Charlie   23  Test_Score    78\n",
      "3    Alice   22     dominoz  None\n",
      "4      Bob   24     dominoz  None\n",
      "5  Charlie   23     dominoz  None\n",
      "\n"
     ]
    }
   ],
   "source": [
    "\n",
    "data = {\n",
    "    'Name': ['Alice', 'Bob', 'Charlie'],\n",
    "    'Age': [22, 24, 23],\n",
    "    'Test_Score': [85, 90, 78],\n",
    "    'dominoz': [None, None, None]\n",
    "}\n",
    "\n",
    "# Create a DataFrame\n",
    "df = pd.DataFrame(data)\n",
    "\n",
    "# Melting the DataFrame\n",
    "melted_df = pd.melt(df, id_vars=['Name', 'Age'], value_vars=['Test_Score', 'dominoz'], var_name='Variable', value_name='Value')\n",
    "\n",
    "# Display the melted DataFrame\n",
    "print(\"Melted DataFrame:\")\n",
    "print(melted_df)\n",
    "print()"
   ]
  },
  {
   "cell_type": "code",
   "execution_count": 34,
   "id": "cdf952d2",
   "metadata": {},
   "outputs": [
    {
     "data": {
      "text/html": [
       "<div>\n",
       "<style scoped>\n",
       "    .dataframe tbody tr th:only-of-type {\n",
       "        vertical-align: middle;\n",
       "    }\n",
       "\n",
       "    .dataframe tbody tr th {\n",
       "        vertical-align: top;\n",
       "    }\n",
       "\n",
       "    .dataframe thead th {\n",
       "        text-align: right;\n",
       "    }\n",
       "</style>\n",
       "<table border=\"1\" class=\"dataframe\">\n",
       "  <thead>\n",
       "    <tr style=\"text-align: right;\">\n",
       "      <th></th>\n",
       "      <th>Name</th>\n",
       "      <th>Age</th>\n",
       "      <th>Test_Score</th>\n",
       "      <th>dominoz</th>\n",
       "    </tr>\n",
       "  </thead>\n",
       "  <tbody>\n",
       "    <tr>\n",
       "      <th>0</th>\n",
       "      <td>Alice</td>\n",
       "      <td>22</td>\n",
       "      <td>85</td>\n",
       "      <td>None</td>\n",
       "    </tr>\n",
       "    <tr>\n",
       "      <th>1</th>\n",
       "      <td>Bob</td>\n",
       "      <td>24</td>\n",
       "      <td>90</td>\n",
       "      <td>None</td>\n",
       "    </tr>\n",
       "    <tr>\n",
       "      <th>2</th>\n",
       "      <td>Charlie</td>\n",
       "      <td>23</td>\n",
       "      <td>78</td>\n",
       "      <td>None</td>\n",
       "    </tr>\n",
       "  </tbody>\n",
       "</table>\n",
       "</div>"
      ],
      "text/plain": [
       "      Name  Age  Test_Score dominoz\n",
       "0    Alice   22          85    None\n",
       "1      Bob   24          90    None\n",
       "2  Charlie   23          78    None"
      ]
     },
     "execution_count": 34,
     "metadata": {},
     "output_type": "execute_result"
    }
   ],
   "source": [
    "df.head()"
   ]
  },
  {
   "cell_type": "code",
   "execution_count": 36,
   "id": "16713e7a",
   "metadata": {},
   "outputs": [],
   "source": [
    "# concatenate\n",
    "\n",
    "\n",
    "data1 = {\n",
    "    'Name': ['Alice', 'Bob', 'Charlie'],\n",
    "    'Age': [22, 24, 23]}\n",
    "data2 = {\n",
    "     'Test_Score': [92, 88, 95, 88],\n",
    "    'dominoz': [None, None, 50, None]\n",
    "}\n",
    "\n"
   ]
  },
  {
   "cell_type": "code",
   "execution_count": 37,
   "id": "d92e34f5",
   "metadata": {},
   "outputs": [
    {
     "name": "stdout",
     "output_type": "stream",
     "text": [
      "Concatenated DataFrame:\n",
      "      Name   Age  Test_Score  dominoz\n",
      "0    Alice  22.0         NaN      NaN\n",
      "1      Bob  24.0         NaN      NaN\n",
      "2  Charlie  23.0         NaN      NaN\n",
      "3      NaN   NaN        92.0      NaN\n",
      "4      NaN   NaN        88.0      NaN\n",
      "5      NaN   NaN        95.0     50.0\n",
      "6      NaN   NaN        88.0      NaN\n"
     ]
    }
   ],
   "source": [
    "\n",
    "# Create DataFrames\n",
    "df1 = pd.DataFrame(data1)\n",
    "df2 = pd.DataFrame(data2)\n",
    "\n",
    "# Concatenate or append rows\n",
    "concatenated_df = pd.concat([df1, df2], ignore_index=True)\n",
    "\n",
    "# Display the concatenated DataFrame\n",
    "print(\"Concatenated DataFrame:\")\n",
    "print(concatenated_df)"
   ]
  },
  {
   "cell_type": "code",
   "execution_count": 38,
   "id": "e0751093",
   "metadata": {},
   "outputs": [
    {
     "data": {
      "text/html": [
       "<div>\n",
       "<style scoped>\n",
       "    .dataframe tbody tr th:only-of-type {\n",
       "        vertical-align: middle;\n",
       "    }\n",
       "\n",
       "    .dataframe tbody tr th {\n",
       "        vertical-align: top;\n",
       "    }\n",
       "\n",
       "    .dataframe thead th {\n",
       "        text-align: right;\n",
       "    }\n",
       "</style>\n",
       "<table border=\"1\" class=\"dataframe\">\n",
       "  <thead>\n",
       "    <tr style=\"text-align: right;\">\n",
       "      <th></th>\n",
       "      <th>Name</th>\n",
       "      <th>Age</th>\n",
       "      <th>Test_Score</th>\n",
       "      <th>dominoz</th>\n",
       "    </tr>\n",
       "  </thead>\n",
       "  <tbody>\n",
       "    <tr>\n",
       "      <th>0</th>\n",
       "      <td>Alice</td>\n",
       "      <td>22</td>\n",
       "      <td>85</td>\n",
       "      <td>None</td>\n",
       "    </tr>\n",
       "    <tr>\n",
       "      <th>1</th>\n",
       "      <td>Bob</td>\n",
       "      <td>24</td>\n",
       "      <td>90</td>\n",
       "      <td>None</td>\n",
       "    </tr>\n",
       "    <tr>\n",
       "      <th>2</th>\n",
       "      <td>Charlie</td>\n",
       "      <td>23</td>\n",
       "      <td>78</td>\n",
       "      <td>None</td>\n",
       "    </tr>\n",
       "  </tbody>\n",
       "</table>\n",
       "</div>"
      ],
      "text/plain": [
       "      Name  Age  Test_Score dominoz\n",
       "0    Alice   22          85    None\n",
       "1      Bob   24          90    None\n",
       "2  Charlie   23          78    None"
      ]
     },
     "execution_count": 38,
     "metadata": {},
     "output_type": "execute_result"
    }
   ],
   "source": [
    "df.head()"
   ]
  },
  {
   "cell_type": "code",
   "execution_count": 39,
   "id": "e67853c1",
   "metadata": {},
   "outputs": [
    {
     "name": "stdout",
     "output_type": "stream",
     "text": [
      "Original DataFrame:\n",
      "         Date Variable  Value\n",
      "0  2022-01-01        A     10\n",
      "1  2022-01-01        B     20\n",
      "2  2022-01-02        A     15\n",
      "3  2022-01-02        B     25\n",
      "\n",
      "Pivoted DataFrame:\n",
      "Variable     A   B\n",
      "Date              \n",
      "2022-01-01  10  20\n",
      "2022-01-02  15  25\n"
     ]
    }
   ],
   "source": [
    "import pandas as pd\n",
    "\n",
    "# Sample data\n",
    "data = {\n",
    "    'Date': ['2022-01-01', '2022-01-01', '2022-01-02', '2022-01-02'],\n",
    "    'Variable': ['A', 'B', 'A', 'B'],\n",
    "    'Value': [10, 20, 15, 25]\n",
    "}\n",
    "\n",
    "# Creating a DataFrame\n",
    "do = pd.DataFrame(data)\n",
    "\n",
    "# Pivot the DataFrame\n",
    "pivoted_do = do.pivot(index='Date', columns='Variable', values='Value')\n",
    "\n",
    "# Display the result\n",
    "print(\"Original DataFrame:\")\n",
    "print(do)\n",
    "print(\"\\nPivoted DataFrame:\")\n",
    "print(pivoted_do)\n"
   ]
  },
  {
   "cell_type": "raw",
   "id": "d1f54a98",
   "metadata": {},
   "source": [
    "Pivot data perform:\n",
    "index='Date': The 'Date' column becomes the index of the pivoted DataFrame.\n",
    "columns='Variable': The unique values in the 'Variable' column ('A' and 'B') \n",
    "become columns in the pivoted DataFrame.\n",
    "values='Value': The values in the 'Value' column are used to fill the cells of the pivoted DataFrame."
   ]
  },
  {
   "cell_type": "code",
   "execution_count": null,
   "id": "7268e1e4",
   "metadata": {},
   "outputs": [],
   "source": [
    "#Subset row column"
   ]
  },
  {
   "cell_type": "code",
   "execution_count": 40,
   "id": "a19a5a9d",
   "metadata": {},
   "outputs": [
    {
     "name": "stdout",
     "output_type": "stream",
     "text": [
      "\n",
      "Selected Rows (iloc[1:3]):\n",
      "      Name  Age  Test_Score dominoz\n",
      "1      Bob   24          90    None\n",
      "2  Charlie   23          78    None\n"
     ]
    }
   ],
   "source": [
    "#Select rows 10-20 (df.iloc[1:3]):\n",
    "# Select rows 1 to 3\n",
    "selected_rows = df.iloc[1:3]\n",
    "print(\"\\nSelected Rows (iloc[1:3]):\")\n",
    "print(selected_rows)\n"
   ]
  },
  {
   "cell_type": "code",
   "execution_count": 41,
   "id": "1d82de46",
   "metadata": {},
   "outputs": [],
   "source": [
    "#Select all columns between 'x2' and 'x4' (inclusive) (df.loc[:, 'x2':'x4']):"
   ]
  },
  {
   "cell_type": "code",
   "execution_count": 42,
   "id": "72ac695a",
   "metadata": {
    "scrolled": true
   },
   "outputs": [
    {
     "name": "stdout",
     "output_type": "stream",
     "text": [
      "\n",
      "Selected Columns Between x2 and x4 (inclusive) (loc[:, 'x2':'x4']):\n",
      "   x2  x3    x4\n",
      "0  22  85  None\n",
      "1  24  90  None\n",
      "2  23  78  None\n"
     ]
    }
   ],
   "source": [
    "# Assume column names are 'x1', 'x2', 'x3', 'x4'\n",
    "df.columns = ['x1', 'x2', 'x3', 'x4']\n",
    "\n",
    "# Select columns between 'x2' and 'x4' (inclusive)\n",
    "selected_columns_range = df.loc[:, 'x2':'x4']\n",
    "print(\"\\nSelected Columns Between x2 and x4 (inclusive) (loc[:, 'x2':'x4']):\")\n",
    "print(selected_columns_range)\n"
   ]
  },
  {
   "cell_type": "raw",
   "id": "5ea9885e",
   "metadata": {},
   "source": [
    "Summarize Data "
   ]
  },
  {
   "cell_type": "code",
   "execution_count": null,
   "id": "0c16996c",
   "metadata": {},
   "outputs": [],
   "source": []
  },
  {
   "cell_type": "code",
   "execution_count": 43,
   "id": "54c9cdbf",
   "metadata": {},
   "outputs": [
    {
     "data": {
      "text/html": [
       "<div>\n",
       "<style scoped>\n",
       "    .dataframe tbody tr th:only-of-type {\n",
       "        vertical-align: middle;\n",
       "    }\n",
       "\n",
       "    .dataframe tbody tr th {\n",
       "        vertical-align: top;\n",
       "    }\n",
       "\n",
       "    .dataframe thead th {\n",
       "        text-align: right;\n",
       "    }\n",
       "</style>\n",
       "<table border=\"1\" class=\"dataframe\">\n",
       "  <thead>\n",
       "    <tr style=\"text-align: right;\">\n",
       "      <th></th>\n",
       "      <th>x1</th>\n",
       "      <th>x2</th>\n",
       "      <th>x3</th>\n",
       "      <th>x4</th>\n",
       "    </tr>\n",
       "  </thead>\n",
       "  <tbody>\n",
       "    <tr>\n",
       "      <th>0</th>\n",
       "      <td>Alice</td>\n",
       "      <td>22</td>\n",
       "      <td>85</td>\n",
       "      <td>None</td>\n",
       "    </tr>\n",
       "    <tr>\n",
       "      <th>1</th>\n",
       "      <td>Bob</td>\n",
       "      <td>24</td>\n",
       "      <td>90</td>\n",
       "      <td>None</td>\n",
       "    </tr>\n",
       "    <tr>\n",
       "      <th>2</th>\n",
       "      <td>Charlie</td>\n",
       "      <td>23</td>\n",
       "      <td>78</td>\n",
       "      <td>None</td>\n",
       "    </tr>\n",
       "  </tbody>\n",
       "</table>\n",
       "</div>"
      ],
      "text/plain": [
       "        x1  x2  x3    x4\n",
       "0    Alice  22  85  None\n",
       "1      Bob  24  90  None\n",
       "2  Charlie  23  78  None"
      ]
     },
     "execution_count": 43,
     "metadata": {},
     "output_type": "execute_result"
    }
   ],
   "source": [
    "df.head()"
   ]
  },
  {
   "cell_type": "code",
   "execution_count": 44,
   "id": "9a13875b",
   "metadata": {},
   "outputs": [
    {
     "name": "stdout",
     "output_type": "stream",
     "text": [
      "\n",
      "Number of distinct values in column Test_Score:\n",
      "3\n"
     ]
    }
   ],
   "source": [
    "# Number of distinct values in column 'w'\n",
    "x1_nunique = df2['Test_Score'].nunique()\n",
    "print('\\nNumber of distinct values in column Test_Score:')\n",
    "print(x1_nunique)"
   ]
  },
  {
   "cell_type": "code",
   "execution_count": 45,
   "id": "7ebd1183",
   "metadata": {},
   "outputs": [
    {
     "data": {
      "text/html": [
       "<div>\n",
       "<style scoped>\n",
       "    .dataframe tbody tr th:only-of-type {\n",
       "        vertical-align: middle;\n",
       "    }\n",
       "\n",
       "    .dataframe tbody tr th {\n",
       "        vertical-align: top;\n",
       "    }\n",
       "\n",
       "    .dataframe thead th {\n",
       "        text-align: right;\n",
       "    }\n",
       "</style>\n",
       "<table border=\"1\" class=\"dataframe\">\n",
       "  <thead>\n",
       "    <tr style=\"text-align: right;\">\n",
       "      <th></th>\n",
       "      <th>Test_Score</th>\n",
       "      <th>dominoz</th>\n",
       "    </tr>\n",
       "  </thead>\n",
       "  <tbody>\n",
       "    <tr>\n",
       "      <th>0</th>\n",
       "      <td>92</td>\n",
       "      <td>NaN</td>\n",
       "    </tr>\n",
       "    <tr>\n",
       "      <th>1</th>\n",
       "      <td>88</td>\n",
       "      <td>NaN</td>\n",
       "    </tr>\n",
       "    <tr>\n",
       "      <th>2</th>\n",
       "      <td>95</td>\n",
       "      <td>50.0</td>\n",
       "    </tr>\n",
       "    <tr>\n",
       "      <th>3</th>\n",
       "      <td>88</td>\n",
       "      <td>NaN</td>\n",
       "    </tr>\n",
       "  </tbody>\n",
       "</table>\n",
       "</div>"
      ],
      "text/plain": [
       "   Test_Score  dominoz\n",
       "0          92      NaN\n",
       "1          88      NaN\n",
       "2          95     50.0\n",
       "3          88      NaN"
      ]
     },
     "execution_count": 45,
     "metadata": {},
     "output_type": "execute_result"
    }
   ],
   "source": [
    "df2.head()"
   ]
  },
  {
   "cell_type": "code",
   "execution_count": 46,
   "id": "08957f44",
   "metadata": {},
   "outputs": [
    {
     "name": "stdout",
     "output_type": "stream",
     "text": [
      "\n",
      "Value counts of column :\n",
      "50.0    1\n",
      "Name: dominoz, dtype: int64\n"
     ]
    }
   ],
   "source": [
    "# Count number of rows with each unique value of variable 'w'\n",
    "value_counts = df2['dominoz'].value_counts()\n",
    "print('\\nValue counts of column :')\n",
    "print(value_counts)"
   ]
  },
  {
   "cell_type": "code",
   "execution_count": 47,
   "id": "8ad62f0b",
   "metadata": {},
   "outputs": [
    {
     "name": "stdout",
     "output_type": "stream",
     "text": [
      "\n",
      "Number of rows in DataFrame:\n",
      "4\n"
     ]
    }
   ],
   "source": [
    "# Number of rows in DataFrame\n",
    "df2_length = len(df2)\n",
    "print('\\nNumber of rows in DataFrame:')\n",
    "print(df2_length)"
   ]
  },
  {
   "cell_type": "code",
   "execution_count": 48,
   "id": "1d593a16",
   "metadata": {},
   "outputs": [
    {
     "data": {
      "text/html": [
       "<div>\n",
       "<style scoped>\n",
       "    .dataframe tbody tr th:only-of-type {\n",
       "        vertical-align: middle;\n",
       "    }\n",
       "\n",
       "    .dataframe tbody tr th {\n",
       "        vertical-align: top;\n",
       "    }\n",
       "\n",
       "    .dataframe thead th {\n",
       "        text-align: right;\n",
       "    }\n",
       "</style>\n",
       "<table border=\"1\" class=\"dataframe\">\n",
       "  <thead>\n",
       "    <tr style=\"text-align: right;\">\n",
       "      <th></th>\n",
       "      <th>Test_Score</th>\n",
       "      <th>dominoz</th>\n",
       "    </tr>\n",
       "  </thead>\n",
       "  <tbody>\n",
       "    <tr>\n",
       "      <th>0</th>\n",
       "      <td>92</td>\n",
       "      <td>NaN</td>\n",
       "    </tr>\n",
       "    <tr>\n",
       "      <th>1</th>\n",
       "      <td>88</td>\n",
       "      <td>NaN</td>\n",
       "    </tr>\n",
       "    <tr>\n",
       "      <th>2</th>\n",
       "      <td>95</td>\n",
       "      <td>50.0</td>\n",
       "    </tr>\n",
       "    <tr>\n",
       "      <th>3</th>\n",
       "      <td>88</td>\n",
       "      <td>NaN</td>\n",
       "    </tr>\n",
       "  </tbody>\n",
       "</table>\n",
       "</div>"
      ],
      "text/plain": [
       "   Test_Score  dominoz\n",
       "0          92      NaN\n",
       "1          88      NaN\n",
       "2          95     50.0\n",
       "3          88      NaN"
      ]
     },
     "execution_count": 48,
     "metadata": {},
     "output_type": "execute_result"
    }
   ],
   "source": [
    "df2"
   ]
  },
  {
   "cell_type": "code",
   "execution_count": 49,
   "id": "20cc6f54",
   "metadata": {},
   "outputs": [
    {
     "name": "stdout",
     "output_type": "stream",
     "text": [
      "Sum of each column:\n",
      "Test_Score    363.0\n",
      "dominoz        50.0\n",
      "dtype: float64\n"
     ]
    }
   ],
   "source": [
    "# Sum values of each column\n",
    "sum_result = df2.sum()\n",
    "print(\"Sum of each column:\")\n",
    "print(sum_result)"
   ]
  },
  {
   "cell_type": "code",
   "execution_count": 50,
   "id": "01c4ee15",
   "metadata": {},
   "outputs": [
    {
     "name": "stdout",
     "output_type": "stream",
     "text": [
      "\n",
      "Count of non-NA values in each column:\n",
      "Test_Score    4\n",
      "dominoz       1\n",
      "dtype: int64\n"
     ]
    }
   ],
   "source": [
    "# Count non-NA/null values of each column\n",
    "count_result = df2.count()\n",
    "print(\"\\nCount of non-NA values in each column:\")\n",
    "print(count_result)\n"
   ]
  },
  {
   "cell_type": "code",
   "execution_count": 51,
   "id": "d600082c",
   "metadata": {},
   "outputs": [
    {
     "name": "stdout",
     "output_type": "stream",
     "text": [
      "\n",
      "Median value of each column:\n",
      "Test_Score    90.0\n",
      "dominoz       50.0\n",
      "dtype: float64\n"
     ]
    }
   ],
   "source": [
    "# Median value of each column\n",
    "median_result = df2.median()\n",
    "print(\"\\nMedian value of each column:\")\n",
    "print(median_result)\n"
   ]
  },
  {
   "cell_type": "code",
   "execution_count": 52,
   "id": "7e47d16f",
   "metadata": {},
   "outputs": [
    {
     "name": "stdout",
     "output_type": "stream",
     "text": [
      "\n",
      "Quantiles (25% and 75%) of each column:\n",
      "      Test_Score  dominoz\n",
      "0.25       88.00     50.0\n",
      "0.75       92.75     50.0\n"
     ]
    }
   ],
   "source": [
    "# Quantiles of each column\n",
    "quantile_result = df2.quantile([0.25, 0.75])\n",
    "print(\"\\nQuantiles (25% and 75%) of each column:\")\n",
    "print(quantile_result)"
   ]
  },
  {
   "cell_type": "code",
   "execution_count": 53,
   "id": "980f309f",
   "metadata": {},
   "outputs": [
    {
     "name": "stdout",
     "output_type": "stream",
     "text": [
      "\n",
      "Minimum value in each column:\n",
      "Test_Score    88.0\n",
      "dominoz       50.0\n",
      "dtype: float64\n"
     ]
    }
   ],
   "source": [
    "# Minimum value in each column\n",
    "min_result = df2.min()\n",
    "print(\"\\nMinimum value in each column:\")\n",
    "print(min_result)\n"
   ]
  },
  {
   "cell_type": "code",
   "execution_count": 54,
   "id": "0c6c5578",
   "metadata": {},
   "outputs": [
    {
     "name": "stdout",
     "output_type": "stream",
     "text": [
      "\n",
      "Maximum value in each column:\n",
      "x1    Charlie\n",
      "x2         24\n",
      "x3         90\n",
      "x4       None\n",
      "dtype: object\n"
     ]
    }
   ],
   "source": [
    "# Maximum value in each column\n",
    "max_result = df.max()\n",
    "print(\"\\nMaximum value in each column:\")\n",
    "print(max_result)"
   ]
  },
  {
   "cell_type": "code",
   "execution_count": 55,
   "id": "16604d48",
   "metadata": {},
   "outputs": [
    {
     "name": "stdout",
     "output_type": "stream",
     "text": [
      "\n",
      "Mean value of each column:\n",
      "Test_Score    90.75\n",
      "dominoz       50.00\n",
      "dtype: float64\n"
     ]
    }
   ],
   "source": [
    "# Mean value of each column\n",
    "mean_result = df2.mean()\n",
    "print(\"\\nMean value of each column:\")\n",
    "print(mean_result)"
   ]
  },
  {
   "cell_type": "code",
   "execution_count": 56,
   "id": "038e6a61",
   "metadata": {},
   "outputs": [
    {
     "name": "stdout",
     "output_type": "stream",
     "text": [
      "\n",
      "Variance of each column:\n",
      "x2     1.000000\n",
      "x3    36.333333\n",
      "x4          NaN\n",
      "dtype: float64\n"
     ]
    },
    {
     "name": "stderr",
     "output_type": "stream",
     "text": [
      "C:\\Users\\LENOVO\\AppData\\Local\\Temp\\ipykernel_5248\\3001906676.py:2: FutureWarning: Dropping of nuisance columns in DataFrame reductions (with 'numeric_only=None') is deprecated; in a future version this will raise TypeError.  Select only valid columns before calling the reduction.\n",
      "  var_result = df.var()\n"
     ]
    }
   ],
   "source": [
    "# Variance of each column\n",
    "var_result = df.var()\n",
    "print(\"\\nVariance of each column:\")\n",
    "print(var_result)"
   ]
  },
  {
   "cell_type": "code",
   "execution_count": 57,
   "id": "1608f095",
   "metadata": {},
   "outputs": [
    {
     "name": "stdout",
     "output_type": "stream",
     "text": [
      "\n",
      "Standard deviation of each column:\n",
      "x2    1.000000\n",
      "x3    6.027714\n",
      "x4         NaN\n",
      "dtype: float64\n"
     ]
    },
    {
     "name": "stderr",
     "output_type": "stream",
     "text": [
      "C:\\Users\\LENOVO\\AppData\\Local\\Temp\\ipykernel_5248\\2377106531.py:2: FutureWarning: Dropping of nuisance columns in DataFrame reductions (with 'numeric_only=None') is deprecated; in a future version this will raise TypeError.  Select only valid columns before calling the reduction.\n",
      "  std_result = df.std()\n"
     ]
    }
   ],
   "source": [
    "\n",
    "# Standard deviation of each column\n",
    "std_result = df.std()\n",
    "print(\"\\nStandard deviation of each column:\")\n",
    "print(std_result)"
   ]
  },
  {
   "cell_type": "raw",
   "id": "8406ea4b",
   "metadata": {},
   "source": [
    "Handling Missing Value"
   ]
  },
  {
   "cell_type": "code",
   "execution_count": 58,
   "id": "c2b4e2e9",
   "metadata": {},
   "outputs": [
    {
     "data": {
      "text/html": [
       "<div>\n",
       "<style scoped>\n",
       "    .dataframe tbody tr th:only-of-type {\n",
       "        vertical-align: middle;\n",
       "    }\n",
       "\n",
       "    .dataframe tbody tr th {\n",
       "        vertical-align: top;\n",
       "    }\n",
       "\n",
       "    .dataframe thead th {\n",
       "        text-align: right;\n",
       "    }\n",
       "</style>\n",
       "<table border=\"1\" class=\"dataframe\">\n",
       "  <thead>\n",
       "    <tr style=\"text-align: right;\">\n",
       "      <th></th>\n",
       "      <th>Test_Score</th>\n",
       "      <th>dominoz</th>\n",
       "    </tr>\n",
       "  </thead>\n",
       "  <tbody>\n",
       "    <tr>\n",
       "      <th>2</th>\n",
       "      <td>95</td>\n",
       "      <td>50.0</td>\n",
       "    </tr>\n",
       "  </tbody>\n",
       "</table>\n",
       "</div>"
      ],
      "text/plain": [
       "   Test_Score  dominoz\n",
       "2          95     50.0"
      ]
     },
     "execution_count": 58,
     "metadata": {},
     "output_type": "execute_result"
    }
   ],
   "source": [
    "df2.dropna()"
   ]
  },
  {
   "cell_type": "code",
   "execution_count": 59,
   "id": "f3553b30",
   "metadata": {},
   "outputs": [
    {
     "data": {
      "text/html": [
       "<div>\n",
       "<style scoped>\n",
       "    .dataframe tbody tr th:only-of-type {\n",
       "        vertical-align: middle;\n",
       "    }\n",
       "\n",
       "    .dataframe tbody tr th {\n",
       "        vertical-align: top;\n",
       "    }\n",
       "\n",
       "    .dataframe thead th {\n",
       "        text-align: right;\n",
       "    }\n",
       "</style>\n",
       "<table border=\"1\" class=\"dataframe\">\n",
       "  <thead>\n",
       "    <tr style=\"text-align: right;\">\n",
       "      <th></th>\n",
       "      <th>Test_Score</th>\n",
       "      <th>dominoz</th>\n",
       "    </tr>\n",
       "  </thead>\n",
       "  <tbody>\n",
       "    <tr>\n",
       "      <th>0</th>\n",
       "      <td>92</td>\n",
       "      <td>NaN</td>\n",
       "    </tr>\n",
       "    <tr>\n",
       "      <th>1</th>\n",
       "      <td>88</td>\n",
       "      <td>NaN</td>\n",
       "    </tr>\n",
       "    <tr>\n",
       "      <th>2</th>\n",
       "      <td>95</td>\n",
       "      <td>50.0</td>\n",
       "    </tr>\n",
       "    <tr>\n",
       "      <th>3</th>\n",
       "      <td>88</td>\n",
       "      <td>NaN</td>\n",
       "    </tr>\n",
       "  </tbody>\n",
       "</table>\n",
       "</div>"
      ],
      "text/plain": [
       "   Test_Score  dominoz\n",
       "0          92      NaN\n",
       "1          88      NaN\n",
       "2          95     50.0\n",
       "3          88      NaN"
      ]
     },
     "execution_count": 59,
     "metadata": {},
     "output_type": "execute_result"
    }
   ],
   "source": [
    "df2.head()"
   ]
  },
  {
   "cell_type": "code",
   "execution_count": 60,
   "id": "be58dcf8",
   "metadata": {},
   "outputs": [
    {
     "data": {
      "text/html": [
       "<div>\n",
       "<style scoped>\n",
       "    .dataframe tbody tr th:only-of-type {\n",
       "        vertical-align: middle;\n",
       "    }\n",
       "\n",
       "    .dataframe tbody tr th {\n",
       "        vertical-align: top;\n",
       "    }\n",
       "\n",
       "    .dataframe thead th {\n",
       "        text-align: right;\n",
       "    }\n",
       "</style>\n",
       "<table border=\"1\" class=\"dataframe\">\n",
       "  <thead>\n",
       "    <tr style=\"text-align: right;\">\n",
       "      <th></th>\n",
       "      <th>Test_Score</th>\n",
       "      <th>dominoz</th>\n",
       "    </tr>\n",
       "  </thead>\n",
       "  <tbody>\n",
       "    <tr>\n",
       "      <th>0</th>\n",
       "      <td>92</td>\n",
       "      <td>0.0</td>\n",
       "    </tr>\n",
       "    <tr>\n",
       "      <th>1</th>\n",
       "      <td>88</td>\n",
       "      <td>0.0</td>\n",
       "    </tr>\n",
       "    <tr>\n",
       "      <th>2</th>\n",
       "      <td>95</td>\n",
       "      <td>50.0</td>\n",
       "    </tr>\n",
       "    <tr>\n",
       "      <th>3</th>\n",
       "      <td>88</td>\n",
       "      <td>0.0</td>\n",
       "    </tr>\n",
       "  </tbody>\n",
       "</table>\n",
       "</div>"
      ],
      "text/plain": [
       "   Test_Score  dominoz\n",
       "0          92      0.0\n",
       "1          88      0.0\n",
       "2          95     50.0\n",
       "3          88      0.0"
      ]
     },
     "execution_count": 60,
     "metadata": {},
     "output_type": "execute_result"
    }
   ],
   "source": [
    "df2.fillna(0)"
   ]
  },
  {
   "cell_type": "raw",
   "id": "2739cb7f",
   "metadata": {},
   "source": [
    "  Logic in Python (and pandas)  "
   ]
  },
  {
   "cell_type": "code",
   "execution_count": 61,
   "id": "f55d2bb4",
   "metadata": {},
   "outputs": [
    {
     "data": {
      "text/html": [
       "<div>\n",
       "<style scoped>\n",
       "    .dataframe tbody tr th:only-of-type {\n",
       "        vertical-align: middle;\n",
       "    }\n",
       "\n",
       "    .dataframe tbody tr th {\n",
       "        vertical-align: top;\n",
       "    }\n",
       "\n",
       "    .dataframe thead th {\n",
       "        text-align: right;\n",
       "    }\n",
       "</style>\n",
       "<table border=\"1\" class=\"dataframe\">\n",
       "  <thead>\n",
       "    <tr style=\"text-align: right;\">\n",
       "      <th></th>\n",
       "      <th>Test_Score</th>\n",
       "      <th>dominoz</th>\n",
       "    </tr>\n",
       "  </thead>\n",
       "  <tbody>\n",
       "    <tr>\n",
       "      <th>1</th>\n",
       "      <td>88</td>\n",
       "      <td>NaN</td>\n",
       "    </tr>\n",
       "    <tr>\n",
       "      <th>3</th>\n",
       "      <td>88</td>\n",
       "      <td>NaN</td>\n",
       "    </tr>\n",
       "  </tbody>\n",
       "</table>\n",
       "</div>"
      ],
      "text/plain": [
       "   Test_Score  dominoz\n",
       "1          88      NaN\n",
       "3          88      NaN"
      ]
     },
     "execution_count": 61,
     "metadata": {},
     "output_type": "execute_result"
    }
   ],
   "source": [
    "# Less than\n",
    "df2[df2['Test_Score'] < 90]\n"
   ]
  },
  {
   "cell_type": "code",
   "execution_count": 62,
   "id": "f611f3be",
   "metadata": {},
   "outputs": [
    {
     "data": {
      "text/html": [
       "<div>\n",
       "<style scoped>\n",
       "    .dataframe tbody tr th:only-of-type {\n",
       "        vertical-align: middle;\n",
       "    }\n",
       "\n",
       "    .dataframe tbody tr th {\n",
       "        vertical-align: top;\n",
       "    }\n",
       "\n",
       "    .dataframe thead th {\n",
       "        text-align: right;\n",
       "    }\n",
       "</style>\n",
       "<table border=\"1\" class=\"dataframe\">\n",
       "  <thead>\n",
       "    <tr style=\"text-align: right;\">\n",
       "      <th></th>\n",
       "      <th>Test_Score</th>\n",
       "      <th>dominoz</th>\n",
       "    </tr>\n",
       "  </thead>\n",
       "  <tbody>\n",
       "    <tr>\n",
       "      <th>0</th>\n",
       "      <td>92</td>\n",
       "      <td>NaN</td>\n",
       "    </tr>\n",
       "    <tr>\n",
       "      <th>2</th>\n",
       "      <td>95</td>\n",
       "      <td>50.0</td>\n",
       "    </tr>\n",
       "  </tbody>\n",
       "</table>\n",
       "</div>"
      ],
      "text/plain": [
       "   Test_Score  dominoz\n",
       "0          92      NaN\n",
       "2          95     50.0"
      ]
     },
     "execution_count": 62,
     "metadata": {},
     "output_type": "execute_result"
    }
   ],
   "source": [
    "# Not equal to\n",
    "df2[df2['Test_Score'] != 88]\n"
   ]
  },
  {
   "cell_type": "code",
   "execution_count": 63,
   "id": "7d387d6d",
   "metadata": {},
   "outputs": [
    {
     "data": {
      "text/html": [
       "<div>\n",
       "<style scoped>\n",
       "    .dataframe tbody tr th:only-of-type {\n",
       "        vertical-align: middle;\n",
       "    }\n",
       "\n",
       "    .dataframe tbody tr th {\n",
       "        vertical-align: top;\n",
       "    }\n",
       "\n",
       "    .dataframe thead th {\n",
       "        text-align: right;\n",
       "    }\n",
       "</style>\n",
       "<table border=\"1\" class=\"dataframe\">\n",
       "  <thead>\n",
       "    <tr style=\"text-align: right;\">\n",
       "      <th></th>\n",
       "      <th>Test_Score</th>\n",
       "      <th>dominoz</th>\n",
       "    </tr>\n",
       "  </thead>\n",
       "  <tbody>\n",
       "    <tr>\n",
       "      <th>0</th>\n",
       "      <td>92</td>\n",
       "      <td>NaN</td>\n",
       "    </tr>\n",
       "    <tr>\n",
       "      <th>2</th>\n",
       "      <td>95</td>\n",
       "      <td>50.0</td>\n",
       "    </tr>\n",
       "  </tbody>\n",
       "</table>\n",
       "</div>"
      ],
      "text/plain": [
       "   Test_Score  dominoz\n",
       "0          92      NaN\n",
       "2          95     50.0"
      ]
     },
     "execution_count": 63,
     "metadata": {},
     "output_type": "execute_result"
    }
   ],
   "source": [
    "# Greater than\n",
    "df2[df2['Test_Score'] > 90]\n"
   ]
  },
  {
   "cell_type": "code",
   "execution_count": 64,
   "id": "9f93ec53",
   "metadata": {},
   "outputs": [
    {
     "data": {
      "text/html": [
       "<div>\n",
       "<style scoped>\n",
       "    .dataframe tbody tr th:only-of-type {\n",
       "        vertical-align: middle;\n",
       "    }\n",
       "\n",
       "    .dataframe tbody tr th {\n",
       "        vertical-align: top;\n",
       "    }\n",
       "\n",
       "    .dataframe thead th {\n",
       "        text-align: right;\n",
       "    }\n",
       "</style>\n",
       "<table border=\"1\" class=\"dataframe\">\n",
       "  <thead>\n",
       "    <tr style=\"text-align: right;\">\n",
       "      <th></th>\n",
       "      <th>Test_Score</th>\n",
       "      <th>dominoz</th>\n",
       "    </tr>\n",
       "  </thead>\n",
       "  <tbody>\n",
       "    <tr>\n",
       "      <th>1</th>\n",
       "      <td>88</td>\n",
       "      <td>NaN</td>\n",
       "    </tr>\n",
       "    <tr>\n",
       "      <th>2</th>\n",
       "      <td>95</td>\n",
       "      <td>50.0</td>\n",
       "    </tr>\n",
       "    <tr>\n",
       "      <th>3</th>\n",
       "      <td>88</td>\n",
       "      <td>NaN</td>\n",
       "    </tr>\n",
       "  </tbody>\n",
       "</table>\n",
       "</div>"
      ],
      "text/plain": [
       "   Test_Score  dominoz\n",
       "1          88      NaN\n",
       "2          95     50.0\n",
       "3          88      NaN"
      ]
     },
     "execution_count": 64,
     "metadata": {},
     "output_type": "execute_result"
    }
   ],
   "source": [
    "# Group membership\n",
    "values = [88, 95]\n",
    "df2[df2['Test_Score'].isin(values)]\n"
   ]
  },
  {
   "cell_type": "code",
   "execution_count": 65,
   "id": "a79d324d",
   "metadata": {},
   "outputs": [
    {
     "data": {
      "text/html": [
       "<div>\n",
       "<style scoped>\n",
       "    .dataframe tbody tr th:only-of-type {\n",
       "        vertical-align: middle;\n",
       "    }\n",
       "\n",
       "    .dataframe tbody tr th {\n",
       "        vertical-align: top;\n",
       "    }\n",
       "\n",
       "    .dataframe thead th {\n",
       "        text-align: right;\n",
       "    }\n",
       "</style>\n",
       "<table border=\"1\" class=\"dataframe\">\n",
       "  <thead>\n",
       "    <tr style=\"text-align: right;\">\n",
       "      <th></th>\n",
       "      <th>Test_Score</th>\n",
       "      <th>dominoz</th>\n",
       "    </tr>\n",
       "  </thead>\n",
       "  <tbody>\n",
       "    <tr>\n",
       "      <th>0</th>\n",
       "      <td>92</td>\n",
       "      <td>NaN</td>\n",
       "    </tr>\n",
       "  </tbody>\n",
       "</table>\n",
       "</div>"
      ],
      "text/plain": [
       "   Test_Score  dominoz\n",
       "0          92      NaN"
      ]
     },
     "execution_count": 65,
     "metadata": {},
     "output_type": "execute_result"
    }
   ],
   "source": [
    "# Equals\n",
    "df2[df2['Test_Score'] == 92]\n"
   ]
  },
  {
   "cell_type": "code",
   "execution_count": 66,
   "id": "7fbad55b",
   "metadata": {},
   "outputs": [
    {
     "data": {
      "text/html": [
       "<div>\n",
       "<style scoped>\n",
       "    .dataframe tbody tr th:only-of-type {\n",
       "        vertical-align: middle;\n",
       "    }\n",
       "\n",
       "    .dataframe tbody tr th {\n",
       "        vertical-align: top;\n",
       "    }\n",
       "\n",
       "    .dataframe thead th {\n",
       "        text-align: right;\n",
       "    }\n",
       "</style>\n",
       "<table border=\"1\" class=\"dataframe\">\n",
       "  <thead>\n",
       "    <tr style=\"text-align: right;\">\n",
       "      <th></th>\n",
       "      <th>Test_Score</th>\n",
       "      <th>dominoz</th>\n",
       "    </tr>\n",
       "  </thead>\n",
       "  <tbody>\n",
       "    <tr>\n",
       "      <th>0</th>\n",
       "      <td>92</td>\n",
       "      <td>NaN</td>\n",
       "    </tr>\n",
       "    <tr>\n",
       "      <th>1</th>\n",
       "      <td>88</td>\n",
       "      <td>NaN</td>\n",
       "    </tr>\n",
       "    <tr>\n",
       "      <th>3</th>\n",
       "      <td>88</td>\n",
       "      <td>NaN</td>\n",
       "    </tr>\n",
       "  </tbody>\n",
       "</table>\n",
       "</div>"
      ],
      "text/plain": [
       "   Test_Score  dominoz\n",
       "0          92      NaN\n",
       "1          88      NaN\n",
       "3          88      NaN"
      ]
     },
     "execution_count": 66,
     "metadata": {},
     "output_type": "execute_result"
    }
   ],
   "source": [
    "# Is NaN\n",
    "df2[pd.isnull(df2['dominoz'])]\n"
   ]
  },
  {
   "cell_type": "code",
   "execution_count": 67,
   "id": "a4cbcca5",
   "metadata": {},
   "outputs": [
    {
     "data": {
      "text/html": [
       "<div>\n",
       "<style scoped>\n",
       "    .dataframe tbody tr th:only-of-type {\n",
       "        vertical-align: middle;\n",
       "    }\n",
       "\n",
       "    .dataframe tbody tr th {\n",
       "        vertical-align: top;\n",
       "    }\n",
       "\n",
       "    .dataframe thead th {\n",
       "        text-align: right;\n",
       "    }\n",
       "</style>\n",
       "<table border=\"1\" class=\"dataframe\">\n",
       "  <thead>\n",
       "    <tr style=\"text-align: right;\">\n",
       "      <th></th>\n",
       "      <th>Test_Score</th>\n",
       "      <th>dominoz</th>\n",
       "    </tr>\n",
       "  </thead>\n",
       "  <tbody>\n",
       "    <tr>\n",
       "      <th>0</th>\n",
       "      <td>92</td>\n",
       "      <td>NaN</td>\n",
       "    </tr>\n",
       "    <tr>\n",
       "      <th>1</th>\n",
       "      <td>88</td>\n",
       "      <td>NaN</td>\n",
       "    </tr>\n",
       "    <tr>\n",
       "      <th>3</th>\n",
       "      <td>88</td>\n",
       "      <td>NaN</td>\n",
       "    </tr>\n",
       "  </tbody>\n",
       "</table>\n",
       "</div>"
      ],
      "text/plain": [
       "   Test_Score  dominoz\n",
       "0          92      NaN\n",
       "1          88      NaN\n",
       "3          88      NaN"
      ]
     },
     "execution_count": 67,
     "metadata": {},
     "output_type": "execute_result"
    }
   ],
   "source": [
    "# Less than or equals\n",
    "df2[df2['Test_Score'] <= 92]\n"
   ]
  },
  {
   "cell_type": "code",
   "execution_count": 68,
   "id": "b95b6891",
   "metadata": {},
   "outputs": [
    {
     "data": {
      "text/html": [
       "<div>\n",
       "<style scoped>\n",
       "    .dataframe tbody tr th:only-of-type {\n",
       "        vertical-align: middle;\n",
       "    }\n",
       "\n",
       "    .dataframe tbody tr th {\n",
       "        vertical-align: top;\n",
       "    }\n",
       "\n",
       "    .dataframe thead th {\n",
       "        text-align: right;\n",
       "    }\n",
       "</style>\n",
       "<table border=\"1\" class=\"dataframe\">\n",
       "  <thead>\n",
       "    <tr style=\"text-align: right;\">\n",
       "      <th></th>\n",
       "      <th>Test_Score</th>\n",
       "      <th>dominoz</th>\n",
       "    </tr>\n",
       "  </thead>\n",
       "  <tbody>\n",
       "    <tr>\n",
       "      <th>0</th>\n",
       "      <td>92</td>\n",
       "      <td>NaN</td>\n",
       "    </tr>\n",
       "    <tr>\n",
       "      <th>2</th>\n",
       "      <td>95</td>\n",
       "      <td>50.0</td>\n",
       "    </tr>\n",
       "  </tbody>\n",
       "</table>\n",
       "</div>"
      ],
      "text/plain": [
       "   Test_Score  dominoz\n",
       "0          92      NaN\n",
       "2          95     50.0"
      ]
     },
     "execution_count": 68,
     "metadata": {},
     "output_type": "execute_result"
    }
   ],
   "source": [
    "# Greater than or equals\n",
    "df2[df2['Test_Score'] >= 92]\n"
   ]
  },
  {
   "cell_type": "markdown",
   "id": "0c23412b",
   "metadata": {},
   "source": [
    "# Logical and &, Logical or |, Logical not ~, Logical xor ^, df.any(), df.all():"
   ]
  },
  {
   "cell_type": "code",
   "execution_count": 69,
   "id": "814f92b8",
   "metadata": {},
   "outputs": [
    {
     "data": {
      "text/html": [
       "<div>\n",
       "<style scoped>\n",
       "    .dataframe tbody tr th:only-of-type {\n",
       "        vertical-align: middle;\n",
       "    }\n",
       "\n",
       "    .dataframe tbody tr th {\n",
       "        vertical-align: top;\n",
       "    }\n",
       "\n",
       "    .dataframe thead th {\n",
       "        text-align: right;\n",
       "    }\n",
       "</style>\n",
       "<table border=\"1\" class=\"dataframe\">\n",
       "  <thead>\n",
       "    <tr style=\"text-align: right;\">\n",
       "      <th></th>\n",
       "      <th>Test_Score</th>\n",
       "      <th>dominoz</th>\n",
       "    </tr>\n",
       "  </thead>\n",
       "  <tbody>\n",
       "    <tr>\n",
       "      <th>2</th>\n",
       "      <td>95</td>\n",
       "      <td>50.0</td>\n",
       "    </tr>\n",
       "  </tbody>\n",
       "</table>\n",
       "</div>"
      ],
      "text/plain": [
       "   Test_Score  dominoz\n",
       "2          95     50.0"
      ]
     },
     "execution_count": 69,
     "metadata": {},
     "output_type": "execute_result"
    }
   ],
   "source": [
    "# Logical and\n",
    "df2[(df2['Test_Score'] > 90) & (df2['dominoz'] > 0)]"
   ]
  },
  {
   "cell_type": "code",
   "execution_count": 70,
   "id": "d9d4ca96",
   "metadata": {},
   "outputs": [
    {
     "data": {
      "text/html": [
       "<div>\n",
       "<style scoped>\n",
       "    .dataframe tbody tr th:only-of-type {\n",
       "        vertical-align: middle;\n",
       "    }\n",
       "\n",
       "    .dataframe tbody tr th {\n",
       "        vertical-align: top;\n",
       "    }\n",
       "\n",
       "    .dataframe thead th {\n",
       "        text-align: right;\n",
       "    }\n",
       "</style>\n",
       "<table border=\"1\" class=\"dataframe\">\n",
       "  <thead>\n",
       "    <tr style=\"text-align: right;\">\n",
       "      <th></th>\n",
       "      <th>Test_Score</th>\n",
       "      <th>dominoz</th>\n",
       "    </tr>\n",
       "  </thead>\n",
       "  <tbody>\n",
       "    <tr>\n",
       "      <th>0</th>\n",
       "      <td>92</td>\n",
       "      <td>NaN</td>\n",
       "    </tr>\n",
       "    <tr>\n",
       "      <th>2</th>\n",
       "      <td>95</td>\n",
       "      <td>50.0</td>\n",
       "    </tr>\n",
       "  </tbody>\n",
       "</table>\n",
       "</div>"
      ],
      "text/plain": [
       "   Test_Score  dominoz\n",
       "0          92      NaN\n",
       "2          95     50.0"
      ]
     },
     "execution_count": 70,
     "metadata": {},
     "output_type": "execute_result"
    }
   ],
   "source": [
    "# Logical or\n",
    "df2[(df2['Test_Score'] > 90) | (df2['dominoz'] > 0)]"
   ]
  },
  {
   "cell_type": "code",
   "execution_count": 77,
   "id": "1cf1521a",
   "metadata": {},
   "outputs": [
    {
     "data": {
      "text/html": [
       "<div>\n",
       "<style scoped>\n",
       "    .dataframe tbody tr th:only-of-type {\n",
       "        vertical-align: middle;\n",
       "    }\n",
       "\n",
       "    .dataframe tbody tr th {\n",
       "        vertical-align: top;\n",
       "    }\n",
       "\n",
       "    .dataframe thead th {\n",
       "        text-align: right;\n",
       "    }\n",
       "</style>\n",
       "<table border=\"1\" class=\"dataframe\">\n",
       "  <thead>\n",
       "    <tr style=\"text-align: right;\">\n",
       "      <th></th>\n",
       "      <th>Test_Score</th>\n",
       "      <th>dominoz</th>\n",
       "    </tr>\n",
       "  </thead>\n",
       "  <tbody>\n",
       "    <tr>\n",
       "      <th>0</th>\n",
       "      <td>92</td>\n",
       "      <td>NaN</td>\n",
       "    </tr>\n",
       "    <tr>\n",
       "      <th>2</th>\n",
       "      <td>95</td>\n",
       "      <td>50.0</td>\n",
       "    </tr>\n",
       "  </tbody>\n",
       "</table>\n",
       "</div>"
      ],
      "text/plain": [
       "   Test_Score  dominoz\n",
       "0          92      NaN\n",
       "2          95     50.0"
      ]
     },
     "execution_count": 77,
     "metadata": {},
     "output_type": "execute_result"
    }
   ],
   "source": [
    "# Logical not\n",
    "df2[~(df2['Test_Score'] == 88)]"
   ]
  },
  {
   "cell_type": "code",
   "execution_count": 72,
   "id": "b05a3911",
   "metadata": {},
   "outputs": [
    {
     "data": {
      "text/html": [
       "<div>\n",
       "<style scoped>\n",
       "    .dataframe tbody tr th:only-of-type {\n",
       "        vertical-align: middle;\n",
       "    }\n",
       "\n",
       "    .dataframe tbody tr th {\n",
       "        vertical-align: top;\n",
       "    }\n",
       "\n",
       "    .dataframe thead th {\n",
       "        text-align: right;\n",
       "    }\n",
       "</style>\n",
       "<table border=\"1\" class=\"dataframe\">\n",
       "  <thead>\n",
       "    <tr style=\"text-align: right;\">\n",
       "      <th></th>\n",
       "      <th>Test_Score</th>\n",
       "      <th>dominoz</th>\n",
       "    </tr>\n",
       "  </thead>\n",
       "  <tbody>\n",
       "    <tr>\n",
       "      <th>0</th>\n",
       "      <td>92</td>\n",
       "      <td>NaN</td>\n",
       "    </tr>\n",
       "  </tbody>\n",
       "</table>\n",
       "</div>"
      ],
      "text/plain": [
       "   Test_Score  dominoz\n",
       "0          92      NaN"
      ]
     },
     "execution_count": 72,
     "metadata": {},
     "output_type": "execute_result"
    }
   ],
   "source": [
    "# Logical xor\n",
    "df2[(df2['Test_Score'] > 90) ^ (df2['dominoz'] > 0)]"
   ]
  },
  {
   "cell_type": "code",
   "execution_count": 73,
   "id": "e100fe5b",
   "metadata": {},
   "outputs": [
    {
     "data": {
      "text/plain": [
       "True"
      ]
     },
     "execution_count": 73,
     "metadata": {},
     "output_type": "execute_result"
    }
   ],
   "source": [
    "# Check if any value in 'Test_Score' column is greater than 90\n",
    "df2['Test_Score'].any()"
   ]
  },
  {
   "cell_type": "code",
   "execution_count": 74,
   "id": "7d81bfd5",
   "metadata": {},
   "outputs": [
    {
     "data": {
      "text/plain": [
       "True"
      ]
     },
     "execution_count": 74,
     "metadata": {},
     "output_type": "execute_result"
    }
   ],
   "source": [
    "# Check if all values in 'Test_Score' column are greater than 90\n",
    "df2['Test_Score'].all()"
   ]
  },
  {
   "cell_type": "raw",
   "id": "1ae81e5d",
   "metadata": {},
   "source": [
    "Group Data"
   ]
  },
  {
   "cell_type": "code",
   "execution_count": 75,
   "id": "847527bc",
   "metadata": {},
   "outputs": [
    {
     "data": {
      "text/html": [
       "<div>\n",
       "<style scoped>\n",
       "    .dataframe tbody tr th:only-of-type {\n",
       "        vertical-align: middle;\n",
       "    }\n",
       "\n",
       "    .dataframe tbody tr th {\n",
       "        vertical-align: top;\n",
       "    }\n",
       "\n",
       "    .dataframe thead th {\n",
       "        text-align: right;\n",
       "    }\n",
       "</style>\n",
       "<table border=\"1\" class=\"dataframe\">\n",
       "  <thead>\n",
       "    <tr style=\"text-align: right;\">\n",
       "      <th></th>\n",
       "      <th>Test_Score</th>\n",
       "      <th>dominoz</th>\n",
       "    </tr>\n",
       "  </thead>\n",
       "  <tbody>\n",
       "    <tr>\n",
       "      <th>0</th>\n",
       "      <td>92</td>\n",
       "      <td>NaN</td>\n",
       "    </tr>\n",
       "    <tr>\n",
       "      <th>1</th>\n",
       "      <td>88</td>\n",
       "      <td>NaN</td>\n",
       "    </tr>\n",
       "    <tr>\n",
       "      <th>2</th>\n",
       "      <td>95</td>\n",
       "      <td>50.0</td>\n",
       "    </tr>\n",
       "    <tr>\n",
       "      <th>3</th>\n",
       "      <td>88</td>\n",
       "      <td>NaN</td>\n",
       "    </tr>\n",
       "  </tbody>\n",
       "</table>\n",
       "</div>"
      ],
      "text/plain": [
       "   Test_Score  dominoz\n",
       "0          92      NaN\n",
       "1          88      NaN\n",
       "2          95     50.0\n",
       "3          88      NaN"
      ]
     },
     "execution_count": 75,
     "metadata": {},
     "output_type": "execute_result"
    }
   ],
   "source": [
    "df2.head()"
   ]
  },
  {
   "cell_type": "raw",
   "id": "92b654b0",
   "metadata": {},
   "source": [
    "import pandas as pd\n",
    "import numpy as np\n",
    "\n",
    "# Creating the DataFrame\n",
    "data = {'Test_Score': [92, 88, 95, 88],\n",
    "        'dominoz': [np.nan, np.nan, 50.0, np.nan]}\n",
    "df2 = pd.DataFrame(data)\n",
    "\n",
    "# Group by 'Test_Score'\n",
    "grouped_by_test_score = df2.groupby(by='Test_Score')\n",
    "\n",
    "# Group by index (assuming you have an index named 'ind')\n",
    "grouped_by_index = df2.groupby(level=0)\n",
    "\n",
    "# Additional GroupBy functions\n",
    "# Element-wise max\n",
    "max_result = grouped_by_test_score.max()\n",
    "print(\"Element-wise max:\")\n",
    "print(max_result)\n",
    "\n",
    "# Trim values at input thresholds\n",
    "clip_result = grouped_by_test_score.NaN(lower=-10, upper=10)\n",
    "print(\"\\nTrim values at input thresholds:\")\n",
    "print(clip_result)\n",
    "\n",
    "# Element-wise min\n",
    "min_result = grouped_by_test_score.min()\n",
    "print(\"\\nElement-wise min:\")\n",
    "print(min_result)\n",
    "\n",
    "# Absolute value\n",
    "abs_result = grouped_by_test_score.abs()\n",
    "print(\"\\nAbsolute value:\")\n",
    "print(abs_result)\n",
    "\n",
    "# Expanding object for cumulative summary functions\n",
    "expanding_result = df.expanding().sum()\n",
    "print(\"\\nExpanding object for cumulative summary functions:\")\n",
    "print(expanding_result)\n",
    "\n",
    "# Rolling object for summary functions on windows of length n\n",
    "rolling_result = df.rolling(window=2).sum()\n",
    "print(\"\\nRolling object for summary functions on windows of length n:\")\n",
    "print(rolling_result)\n",
    "\n",
    "# Size of each group\n",
    "size_result = grouped_by_test_score.size()\n",
    "print(\"\\nSize of each group:\")\n",
    "print(size_result)\n"
   ]
  },
  {
   "cell_type": "code",
   "execution_count": null,
   "id": "081171a3",
   "metadata": {},
   "outputs": [],
   "source": []
  },
  {
   "cell_type": "code",
   "execution_count": null,
   "id": "0e2420ce",
   "metadata": {},
   "outputs": [],
   "source": []
  }
 ],
 "metadata": {
  "kernelspec": {
   "display_name": "Python 3 (ipykernel)",
   "language": "python",
   "name": "python3"
  },
  "language_info": {
   "codemirror_mode": {
    "name": "ipython",
    "version": 3
   },
   "file_extension": ".py",
   "mimetype": "text/x-python",
   "name": "python",
   "nbconvert_exporter": "python",
   "pygments_lexer": "ipython3",
   "version": "3.9.13"
  }
 },
 "nbformat": 4,
 "nbformat_minor": 5
}
