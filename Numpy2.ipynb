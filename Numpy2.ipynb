{
 "cells": [
  {
   "cell_type": "markdown",
   "id": "176fb840",
   "metadata": {},
   "source": [
    "# NUMPY :-\n",
    "NumPy, short for \"Numerical Python,\" is a fundamental package in Python for numerical computations.\n",
    "\n",
    "NumPy introduces the ndarray (N-dimensional array) data structure, which allows you to perform \n",
    "element-wise operations on arrays and matrices efficiently.\n",
    "\n",
    "These operations are often much faster than using traditional Python lists due to NumPy's optimized implementation in C.\n",
    "\n",
    "NumPy is a foundational library for many other scientific computing libraries in Python, such as SciPy, scikit-learn, and pandas."
   ]
  },
  {
   "cell_type": "markdown",
   "id": "a267a0af",
   "metadata": {},
   "source": [
    "# Numpy Arrays (ndarrays) ⇨\n",
    "NumPy arrays are similar to Python lists but come with many advantages that make them essential for numerical and scientific computing.\n",
    "\n",
    "\n",
    "Homogeneous Data Type.\n",
    "\n",
    "\n",
    "Multidimensional Arrays.\n",
    "\n",
    "\n",
    "Memory Efficiency.\n",
    "\n",
    "\n",
    "Fast Element-Wise Operations.\n",
    "\n",
    "\n",
    "Indexing "
   ]
  },
  {
   "cell_type": "markdown",
   "id": "d61e361f",
   "metadata": {},
   "source": [
    "# TO download Numpy Run the following command on your terminal.\n",
    "pip install numpy"
   ]
  },
  {
   "cell_type": "markdown",
   "id": "bb087639",
   "metadata": {},
   "source": [
    "# Numpy Creating Arrays\n",
    "\n"
   ]
  },
  {
   "cell_type": "code",
   "execution_count": 1,
   "id": "e09e9a8b",
   "metadata": {},
   "outputs": [
    {
     "name": "stderr",
     "output_type": "stream",
     "text": [
      "C:\\Users\\LENOVO\\anaconda3\\lib\\site-packages\\numpy\\_distributor_init.py:30: UserWarning: loaded more than 1 DLL from .libs:\n",
      "C:\\Users\\LENOVO\\anaconda3\\lib\\site-packages\\numpy\\.libs\\libopenblas.WCDJNK7YVMPZQ2ME2ZZHJJRJ3JIKNDB7.gfortran-win_amd64.dll\n",
      "C:\\Users\\LENOVO\\anaconda3\\lib\\site-packages\\numpy\\.libs\\libopenblas64__v0.3.21-gcc_10_3_0.dll\n",
      "  warnings.warn(\"loaded more than 1 DLL from .libs:\"\n"
     ]
    }
   ],
   "source": [
    "import numpy as np"
   ]
  },
  {
   "cell_type": "code",
   "execution_count": 2,
   "id": "2ffbf30b",
   "metadata": {},
   "outputs": [],
   "source": [
    "# Creating a 1D array\n",
    "arr_1d = np.array([1, 2, 3])\n",
    "\n",
    "# Creating a 2D array\n",
    "arr_2d = np.array([[1, 2, 3], [4, 5, 6]])\n"
   ]
  },
  {
   "cell_type": "code",
   "execution_count": 3,
   "id": "ad4265c6",
   "metadata": {},
   "outputs": [
    {
     "name": "stdout",
     "output_type": "stream",
     "text": [
      "[1 2 3]\n"
     ]
    }
   ],
   "source": [
    "print(arr_1d)"
   ]
  },
  {
   "cell_type": "code",
   "execution_count": 4,
   "id": "7c84041d",
   "metadata": {},
   "outputs": [
    {
     "name": "stdout",
     "output_type": "stream",
     "text": [
      "[[1 2 3]\n",
      " [4 5 6]]\n"
     ]
    }
   ],
   "source": [
    "print(arr_2d)"
   ]
  },
  {
   "cell_type": "markdown",
   "id": "4af78199",
   "metadata": {},
   "source": [
    "# 1.NumPy Array Creation Methods"
   ]
  },
  {
   "cell_type": "code",
   "execution_count": 5,
   "id": "50ca9d68",
   "metadata": {},
   "outputs": [],
   "source": [
    "# Importing NumPy and Pandas\n",
    "import numpy as np\n",
    "import pandas as pd\n",
    "import random"
   ]
  },
  {
   "cell_type": "code",
   "execution_count": 6,
   "id": "a32848e3",
   "metadata": {},
   "outputs": [
    {
     "name": "stdout",
     "output_type": "stream",
     "text": [
      "1. NumPy Array from Python List:\n",
      "[1 2 3 4 5]\n"
     ]
    }
   ],
   "source": [
    "# Method 1: Using np.array() with a Python list\n",
    "array_from_list = np.array([1, 2, 3, 4, 5])\n",
    "print(\"1. NumPy Array from Python List:\")\n",
    "print(array_from_list)"
   ]
  },
  {
   "cell_type": "code",
   "execution_count": 7,
   "id": "894e3c14",
   "metadata": {},
   "outputs": [
    {
     "name": "stdout",
     "output_type": "stream",
     "text": [
      "\n",
      "2. NumPy Zeros Array:\n",
      "[[0. 0. 0.]\n",
      " [0. 0. 0.]]\n"
     ]
    }
   ],
   "source": [
    "# Method 2: Using np.zeros() to create an array filled with zeros\n",
    "zeros_array = np.zeros((2, 3))  # 2 rows, 3 columns\n",
    "print(\"\\n2. NumPy Zeros Array:\")\n",
    "print(zeros_array)"
   ]
  },
  {
   "cell_type": "code",
   "execution_count": 8,
   "id": "23065a62",
   "metadata": {},
   "outputs": [
    {
     "name": "stdout",
     "output_type": "stream",
     "text": [
      "\n",
      "3. NumPy Ones Array:\n",
      "[[1. 1.]\n",
      " [1. 1.]\n",
      " [1. 1.]]\n"
     ]
    }
   ],
   "source": [
    "# Method 3: Using np.ones() to create an array filled with ones\n",
    "ones_array = np.ones((3, 2))  # 3 rows, 2 columns\n",
    "print(\"\\n3. NumPy Ones Array:\")\n",
    "print(ones_array)\n"
   ]
  },
  {
   "cell_type": "code",
   "execution_count": 78,
   "id": "ee568ee5",
   "metadata": {},
   "outputs": [
    {
     "name": "stdout",
     "output_type": "stream",
     "text": [
      "\n",
      "4. NumPy Range Array:\n",
      "[0 3 6 9]\n"
     ]
    }
   ],
   "source": [
    "# Method 4: Using np.arange() to create an array with a range of values\n",
    "range_array = np.arange(0, 10, 3)  # start, stop, step\n",
    "print(\"\\n4. NumPy Range Array:\")\n",
    "print(range_array)"
   ]
  },
  {
   "cell_type": "code",
   "execution_count": 10,
   "id": "477e0af3",
   "metadata": {},
   "outputs": [
    {
     "name": "stdout",
     "output_type": "stream",
     "text": [
      "\n",
      "5. NumPy Linspace Array:\n",
      "[0.   0.25 0.5  0.75 1.  ]\n"
     ]
    }
   ],
   "source": [
    "# Method 5: Using np.linspace() to create an array with evenly spaced values\n",
    "linspace_array = np.linspace(0, 1, 5)  # start, stop, number of points\n",
    "print(\"\\n5. NumPy Linspace Array:\")\n",
    "print(linspace_array)"
   ]
  },
  {
   "cell_type": "code",
   "execution_count": 11,
   "id": "7e2f34e6",
   "metadata": {},
   "outputs": [
    {
     "name": "stdout",
     "output_type": "stream",
     "text": [
      "\n",
      "6. NumPy Random Array:\n",
      "[[0.45539785 0.63783781 0.80418844]\n",
      " [0.53562073 0.89465744 0.484881  ]]\n"
     ]
    }
   ],
   "source": [
    "# Method 6: Using np.random.rand() to create a random array with values between 0 and 1\n",
    "random_array = np.random.rand(2, 3)  # 2 rows, 3 columns\n",
    "print(\"\\n6. NumPy Random Array:\")\n",
    "print(random_array)"
   ]
  },
  {
   "cell_type": "code",
   "execution_count": 80,
   "id": "8a689b02",
   "metadata": {},
   "outputs": [
    {
     "name": "stdout",
     "output_type": "stream",
     "text": [
      "\n",
      "7. NumPy Identity Matrix:\n",
      "[[1. 0. 0. 0. 0. 0. 0. 0. 0. 0. 0. 0. 0.]\n",
      " [0. 1. 0. 0. 0. 0. 0. 0. 0. 0. 0. 0. 0.]\n",
      " [0. 0. 1. 0. 0. 0. 0. 0. 0. 0. 0. 0. 0.]\n",
      " [0. 0. 0. 1. 0. 0. 0. 0. 0. 0. 0. 0. 0.]\n",
      " [0. 0. 0. 0. 1. 0. 0. 0. 0. 0. 0. 0. 0.]\n",
      " [0. 0. 0. 0. 0. 1. 0. 0. 0. 0. 0. 0. 0.]\n",
      " [0. 0. 0. 0. 0. 0. 1. 0. 0. 0. 0. 0. 0.]\n",
      " [0. 0. 0. 0. 0. 0. 0. 1. 0. 0. 0. 0. 0.]\n",
      " [0. 0. 0. 0. 0. 0. 0. 0. 1. 0. 0. 0. 0.]\n",
      " [0. 0. 0. 0. 0. 0. 0. 0. 0. 1. 0. 0. 0.]\n",
      " [0. 0. 0. 0. 0. 0. 0. 0. 0. 0. 1. 0. 0.]\n",
      " [0. 0. 0. 0. 0. 0. 0. 0. 0. 0. 0. 1. 0.]\n",
      " [0. 0. 0. 0. 0. 0. 0. 0. 0. 0. 0. 0. 1.]]\n"
     ]
    }
   ],
   "source": [
    "# Method 7: Using np.eye() to create an identity matrix\n",
    "identity_matrix = np.eye(13)  # 3x3 identity matrix\n",
    "print(\"\\n7. NumPy Identity Matrix:\")\n",
    "print(identity_matrix)"
   ]
  },
  {
   "cell_type": "raw",
   "id": "d133a112",
   "metadata": {},
   "source": [
    "np.eye() is used to create identity matrices, and these matrices have important applications in mathematics,\n",
    "particularly in linear algebra and solving systems of linear equations."
   ]
  },
  {
   "cell_type": "code",
   "execution_count": 13,
   "id": "42a1c517",
   "metadata": {},
   "outputs": [
    {
     "name": "stdout",
     "output_type": "stream",
     "text": [
      "\n",
      "8. NumPy Random Integer Array:\n",
      "[[ 9  6 14]\n",
      " [ 9 14  2]]\n"
     ]
    }
   ],
   "source": [
    "# Method 8: Using np.random.randint() to create an array with random integers\n",
    "randint_array = np.random.randint(1, 15, size=(2, 3))  # low, high, size\n",
    "print(\"\\n8. NumPy Random Integer Array:\")\n",
    "print(randint_array)"
   ]
  },
  {
   "cell_type": "code",
   "execution_count": 14,
   "id": "b16a7407",
   "metadata": {},
   "outputs": [
    {
     "name": "stdout",
     "output_type": "stream",
     "text": [
      "\n",
      "9. Random List using random.sample():\n",
      "[9, 8, 2, 4, 1]\n"
     ]
    }
   ],
   "source": [
    "# Method 9: Using random.sample() from the random module to create a random list\n",
    "random_list = random.sample(range(1, 10), 5)  # range, sample size\n",
    "print(\"\\n9. Random List using random.sample():\")\n",
    "print(random_list)"
   ]
  },
  {
   "cell_type": "code",
   "execution_count": 15,
   "id": "271ebaca",
   "metadata": {},
   "outputs": [
    {
     "name": "stdout",
     "output_type": "stream",
     "text": [
      "\n",
      "10. Pandas Series from NumPy Array:\n",
      "0    1\n",
      "1    2\n",
      "2    3\n",
      "3    4\n",
      "4    5\n",
      "Name: MySeries, dtype: int32\n"
     ]
    }
   ],
   "source": [
    "# Creating a Pandas Series from a NumPy Array\n",
    "series_from_array = pd.Series(array_from_list, name='MySeries')\n",
    "print(\"\\n10. Pandas Series from NumPy Array:\")\n",
    "print(series_from_array)"
   ]
  },
  {
   "cell_type": "markdown",
   "id": "f108c305",
   "metadata": {},
   "source": [
    "# Mathmatical operation"
   ]
  },
  {
   "cell_type": "code",
   "execution_count": 42,
   "id": "a3efc11b",
   "metadata": {},
   "outputs": [],
   "source": [
    " arr = np.array([1,2,3,4,15])"
   ]
  },
  {
   "cell_type": "code",
   "execution_count": 17,
   "id": "574303f2",
   "metadata": {},
   "outputs": [
    {
     "name": "stdout",
     "output_type": "stream",
     "text": [
      "1. Sum:\n",
      "15\n"
     ]
    }
   ],
   "source": [
    "# Example 1: Sum\n",
    "result_sum = np.sum(arr)\n",
    "print(\"1. Sum:\")\n",
    "print(result_sum)"
   ]
  },
  {
   "cell_type": "code",
   "execution_count": 18,
   "id": "57d3ea5f",
   "metadata": {},
   "outputs": [
    {
     "name": "stdout",
     "output_type": "stream",
     "text": [
      "\n",
      "2. Mean:\n",
      "3.0\n"
     ]
    }
   ],
   "source": [
    "# Example 2: Mean\n",
    "result_mean = np.mean(arr)\n",
    "print(\"\\n2. Mean:\")\n",
    "print(result_mean)"
   ]
  },
  {
   "cell_type": "code",
   "execution_count": 19,
   "id": "31c9e660",
   "metadata": {},
   "outputs": [
    {
     "name": "stdout",
     "output_type": "stream",
     "text": [
      "\n",
      "4. Square Root:\n",
      "[1.         1.41421356 1.73205081 2.         2.23606798]\n"
     ]
    }
   ],
   "source": [
    "# Example 4: Square Root\n",
    "result_sqrt = np.sqrt(arr)\n",
    "print(\"\\n4. Square Root:\")\n",
    "print(result_sqrt)"
   ]
  },
  {
   "cell_type": "code",
   "execution_count": 43,
   "id": "a9cebc2a",
   "metadata": {},
   "outputs": [
    {
     "name": "stdout",
     "output_type": "stream",
     "text": [
      "\n",
      "3. Standard Deviation:\n",
      "5.0990195135927845\n"
     ]
    }
   ],
   "source": [
    "# Example 3: Standard Deviation\n",
    "result_std = np.std(arr)\n",
    "print(\"\\n3. Standard Deviation:\")\n",
    "print(result_std)"
   ]
  },
  {
   "cell_type": "raw",
   "id": "9c7016b1",
   "metadata": {},
   "source": [
    "Standard Deviation (np.std(arr)):\n",
    "Meaning: Measures the amount of variation or dispersion in the array.\n",
    "Use Case: Useful for understanding how spread out the values are in a dataset. \n",
    "High standard deviation indicates high variability."
   ]
  },
  {
   "cell_type": "code",
   "execution_count": 21,
   "id": "55e18ceb",
   "metadata": {},
   "outputs": [
    {
     "name": "stdout",
     "output_type": "stream",
     "text": [
      "\n",
      "5. Natural Logarithm:\n",
      "[0.         0.69314718 1.09861229 1.38629436 1.60943791]\n"
     ]
    }
   ],
   "source": [
    "# Example 5: Natural Logarithm\n",
    "result_log = np.log(arr)\n",
    "print(\"\\n5. Natural Logarithm:\")\n",
    "print(result_log)"
   ]
  },
  {
   "cell_type": "raw",
   "id": "58d08e75",
   "metadata": {},
   "source": [
    "Natural Logarithm (np.log(arr)):\n",
    "Meaning: Calculates the natural logarithm of each element in the array.\n",
    "Use Case: Useful when working with data that grows exponentially,\n",
    "or when trying to linearize exponential relationships."
   ]
  },
  {
   "cell_type": "code",
   "execution_count": 22,
   "id": "bf1af614",
   "metadata": {},
   "outputs": [
    {
     "name": "stdout",
     "output_type": "stream",
     "text": [
      "\n",
      "6. Exponential Function:\n",
      "[  2.71828183   7.3890561   20.08553692  54.59815003 148.4131591 ]\n"
     ]
    }
   ],
   "source": [
    "# Example 6: Exponential Function\n",
    "result_exp = np.exp(arr)\n",
    "print(\"\\n6. Exponential Function:\")\n",
    "print(result_exp)"
   ]
  },
  {
   "cell_type": "raw",
   "id": "4b0b093c",
   "metadata": {},
   "source": [
    "Exponential Function (np.exp(arr)):\n",
    "Meaning: Computes the exponential function (e^x) for each element in the array.\n",
    "Use Case: Useful for transforming data that follows exponential growth,\n",
    "common in financial and scientific applications"
   ]
  },
  {
   "cell_type": "markdown",
   "id": "38517236",
   "metadata": {},
   "source": [
    "# Array Manipulation Methods:"
   ]
  },
  {
   "cell_type": "code",
   "execution_count": 45,
   "id": "344163ee",
   "metadata": {
    "scrolled": true
   },
   "outputs": [
    {
     "name": "stdout",
     "output_type": "stream",
     "text": [
      "Reshaped Array:\n",
      "[[1 2 3]\n",
      " [4 5 6]]\n"
     ]
    }
   ],
   "source": [
    "# Reshape\n",
    "arr = np.array([1, 2, 3, 4, 5, 6])\n",
    "reshaped_arr = arr.reshape(2, 3)\n",
    "print(\"Reshaped Array:\")\n",
    "print(reshaped_arr)\n"
   ]
  },
  {
   "cell_type": "code",
   "execution_count": 46,
   "id": "6a0d11ac",
   "metadata": {},
   "outputs": [
    {
     "data": {
      "text/plain": [
       "array([1, 2, 3, 4, 5, 6])"
      ]
     },
     "execution_count": 46,
     "metadata": {},
     "output_type": "execute_result"
    }
   ],
   "source": [
    "arr"
   ]
  },
  {
   "cell_type": "raw",
   "id": "1629c24a",
   "metadata": {},
   "source": [
    "Explanation: Reshapes the array into a specified shape.\n",
    "Use Case: Useful when you need to change the dimensions of an array for compatibility with certain operations."
   ]
  },
  {
   "cell_type": "code",
   "execution_count": null,
   "id": "ab566adc",
   "metadata": {},
   "outputs": [],
   "source": []
  },
  {
   "cell_type": "code",
   "execution_count": 47,
   "id": "ca994ba2",
   "metadata": {},
   "outputs": [
    {
     "name": "stdout",
     "output_type": "stream",
     "text": [
      "\n",
      "Transposed Array:\n",
      "[[1 4]\n",
      " [2 5]\n",
      " [3 6]]\n"
     ]
    }
   ],
   "source": [
    "# Transpose\n",
    "arr = np.array([[1, 2, 3], [4, 5, 6]])\n",
    "transposed_arr = arr.T\n",
    "print(\"\\nTransposed Array:\")\n",
    "print(transposed_arr)"
   ]
  },
  {
   "cell_type": "raw",
   "id": "abc675dd",
   "metadata": {},
   "source": [
    "Explanation: Transposes the array, swapping rows and columns.\n",
    "Use Case: Useful in linear algebra and when dealing with matrices."
   ]
  },
  {
   "cell_type": "code",
   "execution_count": null,
   "id": "c404da60",
   "metadata": {},
   "outputs": [],
   "source": []
  },
  {
   "cell_type": "code",
   "execution_count": 25,
   "id": "7a1cf970",
   "metadata": {},
   "outputs": [
    {
     "name": "stdout",
     "output_type": "stream",
     "text": [
      "\n",
      "Concatenated Array:\n",
      "[1 2 3 4 5 6]\n"
     ]
    }
   ],
   "source": [
    "# Concatenate\n",
    "arr1 = np.array([1, 2, 3])\n",
    "arr2 = np.array([4, 5, 6])\n",
    "concatenated_arr = np.concatenate((arr1, arr2))\n",
    "print(\"\\nConcatenated Array:\")\n",
    "print(concatenated_arr)"
   ]
  },
  {
   "cell_type": "raw",
   "id": "2a7ebb24",
   "metadata": {},
   "source": [
    "Explanation: Concatenates two or more arrays along a specified axis.\n",
    "Use Case: Useful when combining data from different sources or when expanding an array."
   ]
  },
  {
   "cell_type": "code",
   "execution_count": 26,
   "id": "79472b61",
   "metadata": {},
   "outputs": [
    {
     "name": "stdout",
     "output_type": "stream",
     "text": [
      "\n",
      "Flattened Array:\n",
      "[1 2 3 4 5 6]\n"
     ]
    }
   ],
   "source": [
    "# Flatten\n",
    "arr = np.array([[1, 2, 3], [4, 5, 6]])\n",
    "flattened_arr = arr.flatten()\n",
    "print(\"\\nFlattened Array:\")\n",
    "print(flattened_arr)"
   ]
  },
  {
   "cell_type": "raw",
   "id": "acd5173f",
   "metadata": {},
   "source": [
    "Explanation: Flattens a multi-dimensional array into a 1D array.\n",
    "Use Case: Useful when you need to convert a multi-dimensional array to a linear sequence."
   ]
  },
  {
   "cell_type": "code",
   "execution_count": null,
   "id": "ff0fa102",
   "metadata": {},
   "outputs": [],
   "source": []
  },
  {
   "cell_type": "code",
   "execution_count": 27,
   "id": "9960d2ac",
   "metadata": {},
   "outputs": [
    {
     "name": "stdout",
     "output_type": "stream",
     "text": [
      "\n",
      "Unique Values:\n",
      "[1 2 3 4 5]\n"
     ]
    }
   ],
   "source": [
    "# Unique\n",
    "arr = np.array([1, 2, 2, 3, 4, 4, 5])\n",
    "unique_values = np.unique(arr)\n",
    "print(\"\\nUnique Values:\")\n",
    "print(unique_values)"
   ]
  },
  {
   "cell_type": "raw",
   "id": "c6b3c77d",
   "metadata": {},
   "source": [
    "Explanation: Returns the unique elements of an array.\n",
    "Use Case: Useful when you want to identify and analyze distinct values in your data."
   ]
  },
  {
   "cell_type": "code",
   "execution_count": null,
   "id": "ebc940f0",
   "metadata": {},
   "outputs": [],
   "source": []
  },
  {
   "cell_type": "code",
   "execution_count": 60,
   "id": "ff800f70",
   "metadata": {},
   "outputs": [
    {
     "name": "stdout",
     "output_type": "stream",
     "text": [
      "\n",
      "List Representation:\n",
      "[1, 2, 3]\n"
     ]
    }
   ],
   "source": [
    "# tolist\n",
    "arr2 = np.array([1, 2, 3])\n",
    "list_representation = arr.tolist()\n",
    "print(\"\\nList Representation:\")\n",
    "print(list_representation)"
   ]
  },
  {
   "cell_type": "raw",
   "id": "0daff4ee",
   "metadata": {},
   "source": [
    "Explanation: Converts a NumPy array to a Python list.\n",
    "Use Case: Useful when you need to pass the data to functions that expect a standard Python list."
   ]
  },
  {
   "cell_type": "code",
   "execution_count": 61,
   "id": "35f36698",
   "metadata": {},
   "outputs": [
    {
     "name": "stdout",
     "output_type": "stream",
     "text": [
      "<class 'type'> ['1' '2' 'ani' '3']\n"
     ]
    }
   ],
   "source": [
    "print((type),arr2)"
   ]
  },
  {
   "cell_type": "markdown",
   "id": "f3fd44ac",
   "metadata": {},
   "source": [
    "# Matrix and Vector Operations:"
   ]
  },
  {
   "cell_type": "code",
   "execution_count": 29,
   "id": "bbed4a5a",
   "metadata": {},
   "outputs": [
    {
     "name": "stdout",
     "output_type": "stream",
     "text": [
      "\n",
      "Matrix Product:\n",
      "[[19 22]\n",
      " [43 50]]\n"
     ]
    }
   ],
   "source": [
    "# Matrix Multiplication\n",
    "matrix1 = np.array([[1, 2], [3, 4]])\n",
    "matrix2 = np.array([[5, 6], [7, 8]])\n",
    "matrix_product = np.dot(matrix1, matrix2)\n",
    "print(\"\\nMatrix Product:\")\n",
    "print(matrix_product)"
   ]
  },
  {
   "cell_type": "raw",
   "id": "2207ded8",
   "metadata": {},
   "source": [
    "Explanation: Multiplies two matrices.\n",
    "Use Case: Fundamental operation in linear algebra, used in various applications such as solving systems of linear equations"
   ]
  },
  {
   "cell_type": "code",
   "execution_count": 30,
   "id": "988cdec8",
   "metadata": {},
   "outputs": [],
   "source": [
    "#First element (row 1, column 1):\n",
    "   # (1 * 5) + (2 * 7) = 5 + 14 = 19\n"
   ]
  },
  {
   "cell_type": "code",
   "execution_count": 31,
   "id": "aaede6dc",
   "metadata": {},
   "outputs": [],
   "source": [
    "#Second element (row 1, column 2):\n",
    "#(1 * 6) + (2 * 8) = 6 + 16 = 22"
   ]
  },
  {
   "cell_type": "code",
   "execution_count": 32,
   "id": "ed134039",
   "metadata": {},
   "outputs": [],
   "source": [
    "#Third element (row 2, column 1):\n",
    "#(3 * 5) + (4 * 7) = 15 + 28 = 43\n"
   ]
  },
  {
   "cell_type": "code",
   "execution_count": 33,
   "id": "91652802",
   "metadata": {},
   "outputs": [],
   "source": [
    "#Fourth element (row 2, column 2):\n",
    "#(3 * 6) + (4 * 8) = 18 + 32 = 50\n"
   ]
  },
  {
   "cell_type": "code",
   "execution_count": null,
   "id": "e3f37e42",
   "metadata": {},
   "outputs": [],
   "source": []
  },
  {
   "cell_type": "code",
   "execution_count": 34,
   "id": "bfa2bd38",
   "metadata": {},
   "outputs": [
    {
     "name": "stdout",
     "output_type": "stream",
     "text": [
      "\n",
      "Dot Product:\n",
      "32\n"
     ]
    }
   ],
   "source": [
    "# Dot Product\n",
    "vector1 = np.array([1, 2, 3])\n",
    "vector2 = np.array([4, 5, 6])\n",
    "dot_product = np.dot(vector1, vector2)\n",
    "print(\"\\nDot Product:\")\n",
    "print(dot_product)"
   ]
  },
  {
   "cell_type": "raw",
   "id": "9c4e97e1",
   "metadata": {},
   "source": [
    "Explanation: Computes the dot product of two arrays.\n",
    "Use Case: Essential in linear algebra, used for calculating projections and angles between vectors."
   ]
  },
  {
   "cell_type": "code",
   "execution_count": 35,
   "id": "05cc6c5c",
   "metadata": {
    "scrolled": true
   },
   "outputs": [
    {
     "name": "stdout",
     "output_type": "stream",
     "text": [
      "\n",
      "Element-wise Multiplication:\n",
      "[ 4 10 18]\n"
     ]
    }
   ],
   "source": [
    "# Element-wise Multiplication (Hadamard Product)\n",
    "vector1 = np.array([1, 2, 3])\n",
    "vector2 = np.array([4, 5, 6])\n",
    "elementwise_product = vector1 * vector2\n",
    "print(\"\\nElement-wise Multiplication:\")\n",
    "print(elementwise_product)"
   ]
  },
  {
   "cell_type": "markdown",
   "id": "b2d7f7f7",
   "metadata": {},
   "source": [
    "# Search Method"
   ]
  },
  {
   "cell_type": "code",
   "execution_count": 71,
   "id": "9a665b8b",
   "metadata": {},
   "outputs": [
    {
     "name": "stdout",
     "output_type": "stream",
     "text": [
      "Index of Maximum: 0\n",
      "Index of Minimum: 8\n"
     ]
    }
   ],
   "source": [
    "# argmax and argmin\n",
    "arr22 = np.array([500,3, 1, 4, 1, 1, 2, 6, 0])\n",
    "max_index = np.argmax(arr22)\n",
    "min_index = np.argmin(arr22)\n",
    "print(\"Index of Maximum:\", max_index)\n",
    "print(\"Index of Minimum:\", min_index)"
   ]
  },
  {
   "cell_type": "raw",
   "id": "2e0006ce",
   "metadata": {},
   "source": [
    "Explanation:\n",
    "argmax: Returns the index of the maximum value in the array.\n",
    "argmin: Returns the index of the minimum value in the array.\n",
    "Use Case: Useful when you need to find the position of the maximum or minimum value in an array."
   ]
  },
  {
   "cell_type": "code",
   "execution_count": 74,
   "id": "7ad75689",
   "metadata": {},
   "outputs": [
    {
     "name": "stdout",
     "output_type": "stream",
     "text": [
      "Indices where elements are greater than 2: (array([5], dtype=int64),)\n"
     ]
    }
   ],
   "source": [
    "# where\n",
    "arr = np.array([1, 2, 3, 4, 5, 6])\n",
    "indices = np.where(arr > 5)\n",
    "print(\"Indices where elements are greater than 2:\", indices)\n"
   ]
  },
  {
   "cell_type": "raw",
   "id": "874604bf",
   "metadata": {},
   "source": [
    "Explanation: Returns the indices where a given condition is true.\n",
    "Use Case: Useful when you want to find the positions of elements satisfying a certain condition."
   ]
  },
  {
   "cell_type": "code",
   "execution_count": 75,
   "id": "cea149ad",
   "metadata": {},
   "outputs": [
    {
     "name": "stdout",
     "output_type": "stream",
     "text": [
      "Indices of Nonzero Elements: (array([1, 3], dtype=int64),)\n"
     ]
    }
   ],
   "source": [
    "# nonzero\n",
    "arr = np.array([0, 3, 0, 5, 0])\n",
    "nonzero_indices = np.nonzero(arr)\n",
    "print(\"Indices of Nonzero Elements:\", nonzero_indices)\n"
   ]
  },
  {
   "cell_type": "raw",
   "id": "cf8cb8af",
   "metadata": {},
   "source": [
    "Explanation: Returns the indices of non-zero elements in the array.\n",
    "Use Case: Useful when you want to find the positions of non-zero elements."
   ]
  },
  {
   "cell_type": "markdown",
   "id": "8c3223cc",
   "metadata": {},
   "source": [
    "# Sorting Methods:\n"
   ]
  },
  {
   "cell_type": "code",
   "execution_count": 81,
   "id": "00735868",
   "metadata": {},
   "outputs": [
    {
     "name": "stdout",
     "output_type": "stream",
     "text": [
      "Sorted Array: [1 3 4]\n"
     ]
    }
   ],
   "source": [
    "# sort\n",
    "arr = np.array([3, 1, 4])\n",
    "sorted_arr = np.sort(arr)\n",
    "print(\"Sorted Array:\", sorted_arr)\n"
   ]
  },
  {
   "cell_type": "raw",
   "id": "29259bca",
   "metadata": {},
   "source": [
    "Explanation: Sorts the elements of an array in ascending order.\n",
    "Use Case: Useful when you need the array in sorted order without modifying the original array"
   ]
  },
  {
   "cell_type": "code",
   "execution_count": 77,
   "id": "400a6dd8",
   "metadata": {},
   "outputs": [
    {
     "name": "stdout",
     "output_type": "stream",
     "text": [
      "Indices that would sort the array: [1 0 2]\n"
     ]
    }
   ],
   "source": [
    "# argsort\n",
    "arr = np.array([3, 1, 4])\n",
    "indices_sorted = np.argsort(arr)\n",
    "print(\"Indices that would sort the array:\", indices_sorted)"
   ]
  },
  {
   "cell_type": "raw",
   "id": "35150442",
   "metadata": {},
   "source": [
    "Explanation: Returns the indices that would sort the array.\n",
    "Use Case: Useful when you want to know the order in which elements would be arranged if the array were sorted."
   ]
  },
  {
   "cell_type": "code",
   "execution_count": null,
   "id": "182a5d1c",
   "metadata": {},
   "outputs": [],
   "source": []
  },
  {
   "cell_type": "code",
   "execution_count": null,
   "id": "06046823",
   "metadata": {},
   "outputs": [],
   "source": []
  },
  {
   "cell_type": "code",
   "execution_count": 41,
   "id": "c152d0e8",
   "metadata": {},
   "outputs": [
    {
     "name": "stdout",
     "output_type": "stream",
     "text": [
      "Values greater than 2: [3 4 5]\n"
     ]
    }
   ],
   "source": [
    "import numpy as np\n",
    "\n",
    "arr = np.array([1, 2, 3, 4, 5])\n",
    "indices = np.where(arr > 2)\n",
    "\n",
    "values_greater_than_2 = arr[indices]\n",
    "\n",
    "print(\"Values greater than 2:\", values_greater_than_2)"
   ]
  },
  {
   "cell_type": "code",
   "execution_count": null,
   "id": "008c8c6f",
   "metadata": {},
   "outputs": [],
   "source": []
  }
 ],
 "metadata": {
  "kernelspec": {
   "display_name": "Python 3 (ipykernel)",
   "language": "python",
   "name": "python3"
  },
  "language_info": {
   "codemirror_mode": {
    "name": "ipython",
    "version": 3
   },
   "file_extension": ".py",
   "mimetype": "text/x-python",
   "name": "python",
   "nbconvert_exporter": "python",
   "pygments_lexer": "ipython3",
   "version": "3.9.13"
  }
 },
 "nbformat": 4,
 "nbformat_minor": 5
}
